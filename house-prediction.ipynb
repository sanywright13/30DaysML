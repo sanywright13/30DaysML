{
 "cells": [
  {
   "cell_type": "code",
   "execution_count": 1,
   "id": "85e93e10",
   "metadata": {
    "_cell_guid": "b1076dfc-b9ad-4769-8c92-a6c4dae69d19",
    "_uuid": "8f2839f25d086af736a60e9eeb907d3b93b6e0e5",
    "execution": {
     "iopub.execute_input": "2023-04-12T20:46:02.717897Z",
     "iopub.status.busy": "2023-04-12T20:46:02.717406Z",
     "iopub.status.idle": "2023-04-12T20:46:02.731467Z",
     "shell.execute_reply": "2023-04-12T20:46:02.730675Z"
    },
    "papermill": {
     "duration": 0.027776,
     "end_time": "2023-04-12T20:46:02.733574",
     "exception": false,
     "start_time": "2023-04-12T20:46:02.705798",
     "status": "completed"
    },
    "tags": []
   },
   "outputs": [
    {
     "name": "stdout",
     "output_type": "stream",
     "text": [
      "/kaggle/input/house-prices-advanced-regression-techniques/sample_submission.csv\n",
      "/kaggle/input/house-prices-advanced-regression-techniques/data_description.txt\n",
      "/kaggle/input/house-prices-advanced-regression-techniques/train.csv\n",
      "/kaggle/input/house-prices-advanced-regression-techniques/test.csv\n"
     ]
    }
   ],
   "source": [
    "# This Python 3 environment comes with many helpful analytics libraries installed\n",
    "# It is defined by the kaggle/python Docker image: https://github.com/kaggle/docker-python\n",
    "# For example, here's several helpful packages to load\n",
    "\n",
    "import numpy as np # linear algebra\n",
    "import pandas as pd # data processing, CSV file I/O (e.g. pd.read_csv)\n",
    "\n",
    "# Input data files are available in the read-only \"../input/\" directory\n",
    "# For example, running this (by clicking run or pressing Shift+Enter) will list all files under the input directory\n",
    "\n",
    "import os\n",
    "for dirname, _, filenames in os.walk('/kaggle/input'):\n",
    "    for filename in filenames:\n",
    "        print(os.path.join(dirname, filename))\n",
    "\n",
    "# You can write up to 20GB to the current directory (/kaggle/working/) that gets preserved as output when you create a version using \"Save & Run All\" \n",
    "# You can also write temporary files to /kaggle/temp/, but they won't be saved outside of the current session"
   ]
  },
  {
   "cell_type": "code",
   "execution_count": 2,
   "id": "3c14f932",
   "metadata": {
    "execution": {
     "iopub.execute_input": "2023-04-12T20:46:02.754263Z",
     "iopub.status.busy": "2023-04-12T20:46:02.753898Z",
     "iopub.status.idle": "2023-04-12T20:46:02.826856Z",
     "shell.execute_reply": "2023-04-12T20:46:02.825831Z"
    },
    "papermill": {
     "duration": 0.085839,
     "end_time": "2023-04-12T20:46:02.828788",
     "exception": false,
     "start_time": "2023-04-12T20:46:02.742949",
     "status": "completed"
    },
    "tags": []
   },
   "outputs": [
    {
     "data": {
      "text/html": [
       "<div>\n",
       "<style scoped>\n",
       "    .dataframe tbody tr th:only-of-type {\n",
       "        vertical-align: middle;\n",
       "    }\n",
       "\n",
       "    .dataframe tbody tr th {\n",
       "        vertical-align: top;\n",
       "    }\n",
       "\n",
       "    .dataframe thead th {\n",
       "        text-align: right;\n",
       "    }\n",
       "</style>\n",
       "<table border=\"1\" class=\"dataframe\">\n",
       "  <thead>\n",
       "    <tr style=\"text-align: right;\">\n",
       "      <th></th>\n",
       "      <th>Id</th>\n",
       "      <th>MSSubClass</th>\n",
       "      <th>MSZoning</th>\n",
       "      <th>LotFrontage</th>\n",
       "      <th>LotArea</th>\n",
       "      <th>Street</th>\n",
       "      <th>Alley</th>\n",
       "      <th>LotShape</th>\n",
       "      <th>LandContour</th>\n",
       "      <th>Utilities</th>\n",
       "      <th>...</th>\n",
       "      <th>PoolArea</th>\n",
       "      <th>PoolQC</th>\n",
       "      <th>Fence</th>\n",
       "      <th>MiscFeature</th>\n",
       "      <th>MiscVal</th>\n",
       "      <th>MoSold</th>\n",
       "      <th>YrSold</th>\n",
       "      <th>SaleType</th>\n",
       "      <th>SaleCondition</th>\n",
       "      <th>SalePrice</th>\n",
       "    </tr>\n",
       "  </thead>\n",
       "  <tbody>\n",
       "    <tr>\n",
       "      <th>0</th>\n",
       "      <td>1</td>\n",
       "      <td>60</td>\n",
       "      <td>RL</td>\n",
       "      <td>65.0</td>\n",
       "      <td>8450</td>\n",
       "      <td>Pave</td>\n",
       "      <td>NaN</td>\n",
       "      <td>Reg</td>\n",
       "      <td>Lvl</td>\n",
       "      <td>AllPub</td>\n",
       "      <td>...</td>\n",
       "      <td>0</td>\n",
       "      <td>NaN</td>\n",
       "      <td>NaN</td>\n",
       "      <td>NaN</td>\n",
       "      <td>0</td>\n",
       "      <td>2</td>\n",
       "      <td>2008</td>\n",
       "      <td>WD</td>\n",
       "      <td>Normal</td>\n",
       "      <td>208500</td>\n",
       "    </tr>\n",
       "    <tr>\n",
       "      <th>1</th>\n",
       "      <td>2</td>\n",
       "      <td>20</td>\n",
       "      <td>RL</td>\n",
       "      <td>80.0</td>\n",
       "      <td>9600</td>\n",
       "      <td>Pave</td>\n",
       "      <td>NaN</td>\n",
       "      <td>Reg</td>\n",
       "      <td>Lvl</td>\n",
       "      <td>AllPub</td>\n",
       "      <td>...</td>\n",
       "      <td>0</td>\n",
       "      <td>NaN</td>\n",
       "      <td>NaN</td>\n",
       "      <td>NaN</td>\n",
       "      <td>0</td>\n",
       "      <td>5</td>\n",
       "      <td>2007</td>\n",
       "      <td>WD</td>\n",
       "      <td>Normal</td>\n",
       "      <td>181500</td>\n",
       "    </tr>\n",
       "    <tr>\n",
       "      <th>2</th>\n",
       "      <td>3</td>\n",
       "      <td>60</td>\n",
       "      <td>RL</td>\n",
       "      <td>68.0</td>\n",
       "      <td>11250</td>\n",
       "      <td>Pave</td>\n",
       "      <td>NaN</td>\n",
       "      <td>IR1</td>\n",
       "      <td>Lvl</td>\n",
       "      <td>AllPub</td>\n",
       "      <td>...</td>\n",
       "      <td>0</td>\n",
       "      <td>NaN</td>\n",
       "      <td>NaN</td>\n",
       "      <td>NaN</td>\n",
       "      <td>0</td>\n",
       "      <td>9</td>\n",
       "      <td>2008</td>\n",
       "      <td>WD</td>\n",
       "      <td>Normal</td>\n",
       "      <td>223500</td>\n",
       "    </tr>\n",
       "    <tr>\n",
       "      <th>3</th>\n",
       "      <td>4</td>\n",
       "      <td>70</td>\n",
       "      <td>RL</td>\n",
       "      <td>60.0</td>\n",
       "      <td>9550</td>\n",
       "      <td>Pave</td>\n",
       "      <td>NaN</td>\n",
       "      <td>IR1</td>\n",
       "      <td>Lvl</td>\n",
       "      <td>AllPub</td>\n",
       "      <td>...</td>\n",
       "      <td>0</td>\n",
       "      <td>NaN</td>\n",
       "      <td>NaN</td>\n",
       "      <td>NaN</td>\n",
       "      <td>0</td>\n",
       "      <td>2</td>\n",
       "      <td>2006</td>\n",
       "      <td>WD</td>\n",
       "      <td>Abnorml</td>\n",
       "      <td>140000</td>\n",
       "    </tr>\n",
       "    <tr>\n",
       "      <th>4</th>\n",
       "      <td>5</td>\n",
       "      <td>60</td>\n",
       "      <td>RL</td>\n",
       "      <td>84.0</td>\n",
       "      <td>14260</td>\n",
       "      <td>Pave</td>\n",
       "      <td>NaN</td>\n",
       "      <td>IR1</td>\n",
       "      <td>Lvl</td>\n",
       "      <td>AllPub</td>\n",
       "      <td>...</td>\n",
       "      <td>0</td>\n",
       "      <td>NaN</td>\n",
       "      <td>NaN</td>\n",
       "      <td>NaN</td>\n",
       "      <td>0</td>\n",
       "      <td>12</td>\n",
       "      <td>2008</td>\n",
       "      <td>WD</td>\n",
       "      <td>Normal</td>\n",
       "      <td>250000</td>\n",
       "    </tr>\n",
       "  </tbody>\n",
       "</table>\n",
       "<p>5 rows × 81 columns</p>\n",
       "</div>"
      ],
      "text/plain": [
       "   Id  MSSubClass MSZoning  LotFrontage  LotArea Street Alley LotShape  \\\n",
       "0   1          60       RL         65.0     8450   Pave   NaN      Reg   \n",
       "1   2          20       RL         80.0     9600   Pave   NaN      Reg   \n",
       "2   3          60       RL         68.0    11250   Pave   NaN      IR1   \n",
       "3   4          70       RL         60.0     9550   Pave   NaN      IR1   \n",
       "4   5          60       RL         84.0    14260   Pave   NaN      IR1   \n",
       "\n",
       "  LandContour Utilities  ... PoolArea PoolQC Fence MiscFeature MiscVal MoSold  \\\n",
       "0         Lvl    AllPub  ...        0    NaN   NaN         NaN       0      2   \n",
       "1         Lvl    AllPub  ...        0    NaN   NaN         NaN       0      5   \n",
       "2         Lvl    AllPub  ...        0    NaN   NaN         NaN       0      9   \n",
       "3         Lvl    AllPub  ...        0    NaN   NaN         NaN       0      2   \n",
       "4         Lvl    AllPub  ...        0    NaN   NaN         NaN       0     12   \n",
       "\n",
       "  YrSold  SaleType  SaleCondition  SalePrice  \n",
       "0   2008        WD         Normal     208500  \n",
       "1   2007        WD         Normal     181500  \n",
       "2   2008        WD         Normal     223500  \n",
       "3   2006        WD        Abnorml     140000  \n",
       "4   2008        WD         Normal     250000  \n",
       "\n",
       "[5 rows x 81 columns]"
      ]
     },
     "execution_count": 2,
     "metadata": {},
     "output_type": "execute_result"
    }
   ],
   "source": [
    "#read data \n",
    "train_data=pd.read_csv('/kaggle/input/house-prices-advanced-regression-techniques/train.csv')\n",
    "train_data.head()"
   ]
  },
  {
   "cell_type": "code",
   "execution_count": 3,
   "id": "7e84cfa3",
   "metadata": {
    "execution": {
     "iopub.execute_input": "2023-04-12T20:46:02.849655Z",
     "iopub.status.busy": "2023-04-12T20:46:02.849275Z",
     "iopub.status.idle": "2023-04-12T20:46:02.942479Z",
     "shell.execute_reply": "2023-04-12T20:46:02.941466Z"
    },
    "papermill": {
     "duration": 0.106151,
     "end_time": "2023-04-12T20:46:02.944488",
     "exception": false,
     "start_time": "2023-04-12T20:46:02.838337",
     "status": "completed"
    },
    "tags": []
   },
   "outputs": [
    {
     "data": {
      "text/html": [
       "<div>\n",
       "<style scoped>\n",
       "    .dataframe tbody tr th:only-of-type {\n",
       "        vertical-align: middle;\n",
       "    }\n",
       "\n",
       "    .dataframe tbody tr th {\n",
       "        vertical-align: top;\n",
       "    }\n",
       "\n",
       "    .dataframe thead th {\n",
       "        text-align: right;\n",
       "    }\n",
       "</style>\n",
       "<table border=\"1\" class=\"dataframe\">\n",
       "  <thead>\n",
       "    <tr style=\"text-align: right;\">\n",
       "      <th></th>\n",
       "      <th>Id</th>\n",
       "      <th>MSSubClass</th>\n",
       "      <th>LotFrontage</th>\n",
       "      <th>LotArea</th>\n",
       "      <th>OverallQual</th>\n",
       "      <th>OverallCond</th>\n",
       "      <th>YearBuilt</th>\n",
       "      <th>YearRemodAdd</th>\n",
       "      <th>MasVnrArea</th>\n",
       "      <th>BsmtFinSF1</th>\n",
       "      <th>...</th>\n",
       "      <th>WoodDeckSF</th>\n",
       "      <th>OpenPorchSF</th>\n",
       "      <th>EnclosedPorch</th>\n",
       "      <th>3SsnPorch</th>\n",
       "      <th>ScreenPorch</th>\n",
       "      <th>PoolArea</th>\n",
       "      <th>MiscVal</th>\n",
       "      <th>MoSold</th>\n",
       "      <th>YrSold</th>\n",
       "      <th>SalePrice</th>\n",
       "    </tr>\n",
       "  </thead>\n",
       "  <tbody>\n",
       "    <tr>\n",
       "      <th>count</th>\n",
       "      <td>1460.000000</td>\n",
       "      <td>1460.000000</td>\n",
       "      <td>1201.000000</td>\n",
       "      <td>1460.000000</td>\n",
       "      <td>1460.000000</td>\n",
       "      <td>1460.000000</td>\n",
       "      <td>1460.000000</td>\n",
       "      <td>1460.000000</td>\n",
       "      <td>1452.000000</td>\n",
       "      <td>1460.000000</td>\n",
       "      <td>...</td>\n",
       "      <td>1460.000000</td>\n",
       "      <td>1460.000000</td>\n",
       "      <td>1460.000000</td>\n",
       "      <td>1460.000000</td>\n",
       "      <td>1460.000000</td>\n",
       "      <td>1460.000000</td>\n",
       "      <td>1460.000000</td>\n",
       "      <td>1460.000000</td>\n",
       "      <td>1460.000000</td>\n",
       "      <td>1460.000000</td>\n",
       "    </tr>\n",
       "    <tr>\n",
       "      <th>mean</th>\n",
       "      <td>730.500000</td>\n",
       "      <td>56.897260</td>\n",
       "      <td>70.049958</td>\n",
       "      <td>10516.828082</td>\n",
       "      <td>6.099315</td>\n",
       "      <td>5.575342</td>\n",
       "      <td>1971.267808</td>\n",
       "      <td>1984.865753</td>\n",
       "      <td>103.685262</td>\n",
       "      <td>443.639726</td>\n",
       "      <td>...</td>\n",
       "      <td>94.244521</td>\n",
       "      <td>46.660274</td>\n",
       "      <td>21.954110</td>\n",
       "      <td>3.409589</td>\n",
       "      <td>15.060959</td>\n",
       "      <td>2.758904</td>\n",
       "      <td>43.489041</td>\n",
       "      <td>6.321918</td>\n",
       "      <td>2007.815753</td>\n",
       "      <td>180921.195890</td>\n",
       "    </tr>\n",
       "    <tr>\n",
       "      <th>std</th>\n",
       "      <td>421.610009</td>\n",
       "      <td>42.300571</td>\n",
       "      <td>24.284752</td>\n",
       "      <td>9981.264932</td>\n",
       "      <td>1.382997</td>\n",
       "      <td>1.112799</td>\n",
       "      <td>30.202904</td>\n",
       "      <td>20.645407</td>\n",
       "      <td>181.066207</td>\n",
       "      <td>456.098091</td>\n",
       "      <td>...</td>\n",
       "      <td>125.338794</td>\n",
       "      <td>66.256028</td>\n",
       "      <td>61.119149</td>\n",
       "      <td>29.317331</td>\n",
       "      <td>55.757415</td>\n",
       "      <td>40.177307</td>\n",
       "      <td>496.123024</td>\n",
       "      <td>2.703626</td>\n",
       "      <td>1.328095</td>\n",
       "      <td>79442.502883</td>\n",
       "    </tr>\n",
       "    <tr>\n",
       "      <th>min</th>\n",
       "      <td>1.000000</td>\n",
       "      <td>20.000000</td>\n",
       "      <td>21.000000</td>\n",
       "      <td>1300.000000</td>\n",
       "      <td>1.000000</td>\n",
       "      <td>1.000000</td>\n",
       "      <td>1872.000000</td>\n",
       "      <td>1950.000000</td>\n",
       "      <td>0.000000</td>\n",
       "      <td>0.000000</td>\n",
       "      <td>...</td>\n",
       "      <td>0.000000</td>\n",
       "      <td>0.000000</td>\n",
       "      <td>0.000000</td>\n",
       "      <td>0.000000</td>\n",
       "      <td>0.000000</td>\n",
       "      <td>0.000000</td>\n",
       "      <td>0.000000</td>\n",
       "      <td>1.000000</td>\n",
       "      <td>2006.000000</td>\n",
       "      <td>34900.000000</td>\n",
       "    </tr>\n",
       "    <tr>\n",
       "      <th>25%</th>\n",
       "      <td>365.750000</td>\n",
       "      <td>20.000000</td>\n",
       "      <td>59.000000</td>\n",
       "      <td>7553.500000</td>\n",
       "      <td>5.000000</td>\n",
       "      <td>5.000000</td>\n",
       "      <td>1954.000000</td>\n",
       "      <td>1967.000000</td>\n",
       "      <td>0.000000</td>\n",
       "      <td>0.000000</td>\n",
       "      <td>...</td>\n",
       "      <td>0.000000</td>\n",
       "      <td>0.000000</td>\n",
       "      <td>0.000000</td>\n",
       "      <td>0.000000</td>\n",
       "      <td>0.000000</td>\n",
       "      <td>0.000000</td>\n",
       "      <td>0.000000</td>\n",
       "      <td>5.000000</td>\n",
       "      <td>2007.000000</td>\n",
       "      <td>129975.000000</td>\n",
       "    </tr>\n",
       "    <tr>\n",
       "      <th>50%</th>\n",
       "      <td>730.500000</td>\n",
       "      <td>50.000000</td>\n",
       "      <td>69.000000</td>\n",
       "      <td>9478.500000</td>\n",
       "      <td>6.000000</td>\n",
       "      <td>5.000000</td>\n",
       "      <td>1973.000000</td>\n",
       "      <td>1994.000000</td>\n",
       "      <td>0.000000</td>\n",
       "      <td>383.500000</td>\n",
       "      <td>...</td>\n",
       "      <td>0.000000</td>\n",
       "      <td>25.000000</td>\n",
       "      <td>0.000000</td>\n",
       "      <td>0.000000</td>\n",
       "      <td>0.000000</td>\n",
       "      <td>0.000000</td>\n",
       "      <td>0.000000</td>\n",
       "      <td>6.000000</td>\n",
       "      <td>2008.000000</td>\n",
       "      <td>163000.000000</td>\n",
       "    </tr>\n",
       "    <tr>\n",
       "      <th>75%</th>\n",
       "      <td>1095.250000</td>\n",
       "      <td>70.000000</td>\n",
       "      <td>80.000000</td>\n",
       "      <td>11601.500000</td>\n",
       "      <td>7.000000</td>\n",
       "      <td>6.000000</td>\n",
       "      <td>2000.000000</td>\n",
       "      <td>2004.000000</td>\n",
       "      <td>166.000000</td>\n",
       "      <td>712.250000</td>\n",
       "      <td>...</td>\n",
       "      <td>168.000000</td>\n",
       "      <td>68.000000</td>\n",
       "      <td>0.000000</td>\n",
       "      <td>0.000000</td>\n",
       "      <td>0.000000</td>\n",
       "      <td>0.000000</td>\n",
       "      <td>0.000000</td>\n",
       "      <td>8.000000</td>\n",
       "      <td>2009.000000</td>\n",
       "      <td>214000.000000</td>\n",
       "    </tr>\n",
       "    <tr>\n",
       "      <th>max</th>\n",
       "      <td>1460.000000</td>\n",
       "      <td>190.000000</td>\n",
       "      <td>313.000000</td>\n",
       "      <td>215245.000000</td>\n",
       "      <td>10.000000</td>\n",
       "      <td>9.000000</td>\n",
       "      <td>2010.000000</td>\n",
       "      <td>2010.000000</td>\n",
       "      <td>1600.000000</td>\n",
       "      <td>5644.000000</td>\n",
       "      <td>...</td>\n",
       "      <td>857.000000</td>\n",
       "      <td>547.000000</td>\n",
       "      <td>552.000000</td>\n",
       "      <td>508.000000</td>\n",
       "      <td>480.000000</td>\n",
       "      <td>738.000000</td>\n",
       "      <td>15500.000000</td>\n",
       "      <td>12.000000</td>\n",
       "      <td>2010.000000</td>\n",
       "      <td>755000.000000</td>\n",
       "    </tr>\n",
       "  </tbody>\n",
       "</table>\n",
       "<p>8 rows × 38 columns</p>\n",
       "</div>"
      ],
      "text/plain": [
       "                Id   MSSubClass  LotFrontage        LotArea  OverallQual  \\\n",
       "count  1460.000000  1460.000000  1201.000000    1460.000000  1460.000000   \n",
       "mean    730.500000    56.897260    70.049958   10516.828082     6.099315   \n",
       "std     421.610009    42.300571    24.284752    9981.264932     1.382997   \n",
       "min       1.000000    20.000000    21.000000    1300.000000     1.000000   \n",
       "25%     365.750000    20.000000    59.000000    7553.500000     5.000000   \n",
       "50%     730.500000    50.000000    69.000000    9478.500000     6.000000   \n",
       "75%    1095.250000    70.000000    80.000000   11601.500000     7.000000   \n",
       "max    1460.000000   190.000000   313.000000  215245.000000    10.000000   \n",
       "\n",
       "       OverallCond    YearBuilt  YearRemodAdd   MasVnrArea   BsmtFinSF1  ...  \\\n",
       "count  1460.000000  1460.000000   1460.000000  1452.000000  1460.000000  ...   \n",
       "mean      5.575342  1971.267808   1984.865753   103.685262   443.639726  ...   \n",
       "std       1.112799    30.202904     20.645407   181.066207   456.098091  ...   \n",
       "min       1.000000  1872.000000   1950.000000     0.000000     0.000000  ...   \n",
       "25%       5.000000  1954.000000   1967.000000     0.000000     0.000000  ...   \n",
       "50%       5.000000  1973.000000   1994.000000     0.000000   383.500000  ...   \n",
       "75%       6.000000  2000.000000   2004.000000   166.000000   712.250000  ...   \n",
       "max       9.000000  2010.000000   2010.000000  1600.000000  5644.000000  ...   \n",
       "\n",
       "        WoodDeckSF  OpenPorchSF  EnclosedPorch    3SsnPorch  ScreenPorch  \\\n",
       "count  1460.000000  1460.000000    1460.000000  1460.000000  1460.000000   \n",
       "mean     94.244521    46.660274      21.954110     3.409589    15.060959   \n",
       "std     125.338794    66.256028      61.119149    29.317331    55.757415   \n",
       "min       0.000000     0.000000       0.000000     0.000000     0.000000   \n",
       "25%       0.000000     0.000000       0.000000     0.000000     0.000000   \n",
       "50%       0.000000    25.000000       0.000000     0.000000     0.000000   \n",
       "75%     168.000000    68.000000       0.000000     0.000000     0.000000   \n",
       "max     857.000000   547.000000     552.000000   508.000000   480.000000   \n",
       "\n",
       "          PoolArea       MiscVal       MoSold       YrSold      SalePrice  \n",
       "count  1460.000000   1460.000000  1460.000000  1460.000000    1460.000000  \n",
       "mean      2.758904     43.489041     6.321918  2007.815753  180921.195890  \n",
       "std      40.177307    496.123024     2.703626     1.328095   79442.502883  \n",
       "min       0.000000      0.000000     1.000000  2006.000000   34900.000000  \n",
       "25%       0.000000      0.000000     5.000000  2007.000000  129975.000000  \n",
       "50%       0.000000      0.000000     6.000000  2008.000000  163000.000000  \n",
       "75%       0.000000      0.000000     8.000000  2009.000000  214000.000000  \n",
       "max     738.000000  15500.000000    12.000000  2010.000000  755000.000000  \n",
       "\n",
       "[8 rows x 38 columns]"
      ]
     },
     "execution_count": 3,
     "metadata": {},
     "output_type": "execute_result"
    }
   ],
   "source": [
    "train_data.describe()"
   ]
  },
  {
   "cell_type": "code",
   "execution_count": 4,
   "id": "c3c4d8b7",
   "metadata": {
    "execution": {
     "iopub.execute_input": "2023-04-12T20:46:02.966768Z",
     "iopub.status.busy": "2023-04-12T20:46:02.966442Z",
     "iopub.status.idle": "2023-04-12T20:46:02.991105Z",
     "shell.execute_reply": "2023-04-12T20:46:02.989622Z"
    },
    "papermill": {
     "duration": 0.039689,
     "end_time": "2023-04-12T20:46:02.994135",
     "exception": false,
     "start_time": "2023-04-12T20:46:02.954446",
     "status": "completed"
    },
    "tags": []
   },
   "outputs": [
    {
     "name": "stdout",
     "output_type": "stream",
     "text": [
      "<class 'pandas.core.frame.DataFrame'>\n",
      "RangeIndex: 1460 entries, 0 to 1459\n",
      "Data columns (total 81 columns):\n",
      " #   Column         Non-Null Count  Dtype  \n",
      "---  ------         --------------  -----  \n",
      " 0   Id             1460 non-null   int64  \n",
      " 1   MSSubClass     1460 non-null   int64  \n",
      " 2   MSZoning       1460 non-null   object \n",
      " 3   LotFrontage    1201 non-null   float64\n",
      " 4   LotArea        1460 non-null   int64  \n",
      " 5   Street         1460 non-null   object \n",
      " 6   Alley          91 non-null     object \n",
      " 7   LotShape       1460 non-null   object \n",
      " 8   LandContour    1460 non-null   object \n",
      " 9   Utilities      1460 non-null   object \n",
      " 10  LotConfig      1460 non-null   object \n",
      " 11  LandSlope      1460 non-null   object \n",
      " 12  Neighborhood   1460 non-null   object \n",
      " 13  Condition1     1460 non-null   object \n",
      " 14  Condition2     1460 non-null   object \n",
      " 15  BldgType       1460 non-null   object \n",
      " 16  HouseStyle     1460 non-null   object \n",
      " 17  OverallQual    1460 non-null   int64  \n",
      " 18  OverallCond    1460 non-null   int64  \n",
      " 19  YearBuilt      1460 non-null   int64  \n",
      " 20  YearRemodAdd   1460 non-null   int64  \n",
      " 21  RoofStyle      1460 non-null   object \n",
      " 22  RoofMatl       1460 non-null   object \n",
      " 23  Exterior1st    1460 non-null   object \n",
      " 24  Exterior2nd    1460 non-null   object \n",
      " 25  MasVnrType     1452 non-null   object \n",
      " 26  MasVnrArea     1452 non-null   float64\n",
      " 27  ExterQual      1460 non-null   object \n",
      " 28  ExterCond      1460 non-null   object \n",
      " 29  Foundation     1460 non-null   object \n",
      " 30  BsmtQual       1423 non-null   object \n",
      " 31  BsmtCond       1423 non-null   object \n",
      " 32  BsmtExposure   1422 non-null   object \n",
      " 33  BsmtFinType1   1423 non-null   object \n",
      " 34  BsmtFinSF1     1460 non-null   int64  \n",
      " 35  BsmtFinType2   1422 non-null   object \n",
      " 36  BsmtFinSF2     1460 non-null   int64  \n",
      " 37  BsmtUnfSF      1460 non-null   int64  \n",
      " 38  TotalBsmtSF    1460 non-null   int64  \n",
      " 39  Heating        1460 non-null   object \n",
      " 40  HeatingQC      1460 non-null   object \n",
      " 41  CentralAir     1460 non-null   object \n",
      " 42  Electrical     1459 non-null   object \n",
      " 43  1stFlrSF       1460 non-null   int64  \n",
      " 44  2ndFlrSF       1460 non-null   int64  \n",
      " 45  LowQualFinSF   1460 non-null   int64  \n",
      " 46  GrLivArea      1460 non-null   int64  \n",
      " 47  BsmtFullBath   1460 non-null   int64  \n",
      " 48  BsmtHalfBath   1460 non-null   int64  \n",
      " 49  FullBath       1460 non-null   int64  \n",
      " 50  HalfBath       1460 non-null   int64  \n",
      " 51  BedroomAbvGr   1460 non-null   int64  \n",
      " 52  KitchenAbvGr   1460 non-null   int64  \n",
      " 53  KitchenQual    1460 non-null   object \n",
      " 54  TotRmsAbvGrd   1460 non-null   int64  \n",
      " 55  Functional     1460 non-null   object \n",
      " 56  Fireplaces     1460 non-null   int64  \n",
      " 57  FireplaceQu    770 non-null    object \n",
      " 58  GarageType     1379 non-null   object \n",
      " 59  GarageYrBlt    1379 non-null   float64\n",
      " 60  GarageFinish   1379 non-null   object \n",
      " 61  GarageCars     1460 non-null   int64  \n",
      " 62  GarageArea     1460 non-null   int64  \n",
      " 63  GarageQual     1379 non-null   object \n",
      " 64  GarageCond     1379 non-null   object \n",
      " 65  PavedDrive     1460 non-null   object \n",
      " 66  WoodDeckSF     1460 non-null   int64  \n",
      " 67  OpenPorchSF    1460 non-null   int64  \n",
      " 68  EnclosedPorch  1460 non-null   int64  \n",
      " 69  3SsnPorch      1460 non-null   int64  \n",
      " 70  ScreenPorch    1460 non-null   int64  \n",
      " 71  PoolArea       1460 non-null   int64  \n",
      " 72  PoolQC         7 non-null      object \n",
      " 73  Fence          281 non-null    object \n",
      " 74  MiscFeature    54 non-null     object \n",
      " 75  MiscVal        1460 non-null   int64  \n",
      " 76  MoSold         1460 non-null   int64  \n",
      " 77  YrSold         1460 non-null   int64  \n",
      " 78  SaleType       1460 non-null   object \n",
      " 79  SaleCondition  1460 non-null   object \n",
      " 80  SalePrice      1460 non-null   int64  \n",
      "dtypes: float64(3), int64(35), object(43)\n",
      "memory usage: 924.0+ KB\n"
     ]
    }
   ],
   "source": [
    "train_data.info()"
   ]
  },
  {
   "cell_type": "code",
   "execution_count": null,
   "id": "f125af01",
   "metadata": {
    "papermill": {
     "duration": 0.009878,
     "end_time": "2023-04-12T20:46:03.014505",
     "exception": false,
     "start_time": "2023-04-12T20:46:03.004627",
     "status": "completed"
    },
    "tags": []
   },
   "outputs": [],
   "source": []
  },
  {
   "cell_type": "raw",
   "id": "90f932d7",
   "metadata": {
    "papermill": {
     "duration": 0.009928,
     "end_time": "2023-04-12T20:46:03.034704",
     "exception": false,
     "start_time": "2023-04-12T20:46:03.024776",
     "status": "completed"
    },
    "tags": []
   },
   "source": []
  },
  {
   "cell_type": "code",
   "execution_count": 5,
   "id": "9bbac5e6",
   "metadata": {
    "execution": {
     "iopub.execute_input": "2023-04-12T20:46:03.056843Z",
     "iopub.status.busy": "2023-04-12T20:46:03.056479Z",
     "iopub.status.idle": "2023-04-12T20:46:03.090380Z",
     "shell.execute_reply": "2023-04-12T20:46:03.089275Z"
    },
    "papermill": {
     "duration": 0.047634,
     "end_time": "2023-04-12T20:46:03.092486",
     "exception": false,
     "start_time": "2023-04-12T20:46:03.044852",
     "status": "completed"
    },
    "tags": []
   },
   "outputs": [
    {
     "data": {
      "text/html": [
       "<div>\n",
       "<style scoped>\n",
       "    .dataframe tbody tr th:only-of-type {\n",
       "        vertical-align: middle;\n",
       "    }\n",
       "\n",
       "    .dataframe tbody tr th {\n",
       "        vertical-align: top;\n",
       "    }\n",
       "\n",
       "    .dataframe thead th {\n",
       "        text-align: right;\n",
       "    }\n",
       "</style>\n",
       "<table border=\"1\" class=\"dataframe\">\n",
       "  <thead>\n",
       "    <tr style=\"text-align: right;\">\n",
       "      <th></th>\n",
       "      <th>Id</th>\n",
       "      <th>MSSubClass</th>\n",
       "      <th>MSZoning</th>\n",
       "      <th>LotFrontage</th>\n",
       "      <th>LotArea</th>\n",
       "      <th>Street</th>\n",
       "      <th>Alley</th>\n",
       "      <th>LotShape</th>\n",
       "      <th>LandContour</th>\n",
       "      <th>Utilities</th>\n",
       "      <th>...</th>\n",
       "      <th>PoolArea</th>\n",
       "      <th>PoolQC</th>\n",
       "      <th>Fence</th>\n",
       "      <th>MiscFeature</th>\n",
       "      <th>MiscVal</th>\n",
       "      <th>MoSold</th>\n",
       "      <th>YrSold</th>\n",
       "      <th>SaleType</th>\n",
       "      <th>SaleCondition</th>\n",
       "      <th>SalePrice</th>\n",
       "    </tr>\n",
       "  </thead>\n",
       "  <tbody>\n",
       "    <tr>\n",
       "      <th>1</th>\n",
       "      <td>2</td>\n",
       "      <td>20</td>\n",
       "      <td>RL</td>\n",
       "      <td>80.0</td>\n",
       "      <td>9600</td>\n",
       "      <td>Pave</td>\n",
       "      <td>NaN</td>\n",
       "      <td>Reg</td>\n",
       "      <td>Lvl</td>\n",
       "      <td>AllPub</td>\n",
       "      <td>...</td>\n",
       "      <td>0</td>\n",
       "      <td>NaN</td>\n",
       "      <td>NaN</td>\n",
       "      <td>NaN</td>\n",
       "      <td>0</td>\n",
       "      <td>5</td>\n",
       "      <td>2007</td>\n",
       "      <td>WD</td>\n",
       "      <td>Normal</td>\n",
       "      <td>181500</td>\n",
       "    </tr>\n",
       "    <tr>\n",
       "      <th>2</th>\n",
       "      <td>3</td>\n",
       "      <td>60</td>\n",
       "      <td>RL</td>\n",
       "      <td>68.0</td>\n",
       "      <td>11250</td>\n",
       "      <td>Pave</td>\n",
       "      <td>NaN</td>\n",
       "      <td>IR1</td>\n",
       "      <td>Lvl</td>\n",
       "      <td>AllPub</td>\n",
       "      <td>...</td>\n",
       "      <td>0</td>\n",
       "      <td>NaN</td>\n",
       "      <td>NaN</td>\n",
       "      <td>NaN</td>\n",
       "      <td>0</td>\n",
       "      <td>9</td>\n",
       "      <td>2008</td>\n",
       "      <td>WD</td>\n",
       "      <td>Normal</td>\n",
       "      <td>223500</td>\n",
       "    </tr>\n",
       "    <tr>\n",
       "      <th>3</th>\n",
       "      <td>4</td>\n",
       "      <td>70</td>\n",
       "      <td>RL</td>\n",
       "      <td>60.0</td>\n",
       "      <td>9550</td>\n",
       "      <td>Pave</td>\n",
       "      <td>NaN</td>\n",
       "      <td>IR1</td>\n",
       "      <td>Lvl</td>\n",
       "      <td>AllPub</td>\n",
       "      <td>...</td>\n",
       "      <td>0</td>\n",
       "      <td>NaN</td>\n",
       "      <td>NaN</td>\n",
       "      <td>NaN</td>\n",
       "      <td>0</td>\n",
       "      <td>2</td>\n",
       "      <td>2006</td>\n",
       "      <td>WD</td>\n",
       "      <td>Abnorml</td>\n",
       "      <td>140000</td>\n",
       "    </tr>\n",
       "    <tr>\n",
       "      <th>4</th>\n",
       "      <td>5</td>\n",
       "      <td>60</td>\n",
       "      <td>RL</td>\n",
       "      <td>84.0</td>\n",
       "      <td>14260</td>\n",
       "      <td>Pave</td>\n",
       "      <td>NaN</td>\n",
       "      <td>IR1</td>\n",
       "      <td>Lvl</td>\n",
       "      <td>AllPub</td>\n",
       "      <td>...</td>\n",
       "      <td>0</td>\n",
       "      <td>NaN</td>\n",
       "      <td>NaN</td>\n",
       "      <td>NaN</td>\n",
       "      <td>0</td>\n",
       "      <td>12</td>\n",
       "      <td>2008</td>\n",
       "      <td>WD</td>\n",
       "      <td>Normal</td>\n",
       "      <td>250000</td>\n",
       "    </tr>\n",
       "    <tr>\n",
       "      <th>5</th>\n",
       "      <td>6</td>\n",
       "      <td>50</td>\n",
       "      <td>RL</td>\n",
       "      <td>85.0</td>\n",
       "      <td>14115</td>\n",
       "      <td>Pave</td>\n",
       "      <td>NaN</td>\n",
       "      <td>IR1</td>\n",
       "      <td>Lvl</td>\n",
       "      <td>AllPub</td>\n",
       "      <td>...</td>\n",
       "      <td>0</td>\n",
       "      <td>NaN</td>\n",
       "      <td>MnPrv</td>\n",
       "      <td>Shed</td>\n",
       "      <td>700</td>\n",
       "      <td>10</td>\n",
       "      <td>2009</td>\n",
       "      <td>WD</td>\n",
       "      <td>Normal</td>\n",
       "      <td>143000</td>\n",
       "    </tr>\n",
       "    <tr>\n",
       "      <th>...</th>\n",
       "      <td>...</td>\n",
       "      <td>...</td>\n",
       "      <td>...</td>\n",
       "      <td>...</td>\n",
       "      <td>...</td>\n",
       "      <td>...</td>\n",
       "      <td>...</td>\n",
       "      <td>...</td>\n",
       "      <td>...</td>\n",
       "      <td>...</td>\n",
       "      <td>...</td>\n",
       "      <td>...</td>\n",
       "      <td>...</td>\n",
       "      <td>...</td>\n",
       "      <td>...</td>\n",
       "      <td>...</td>\n",
       "      <td>...</td>\n",
       "      <td>...</td>\n",
       "      <td>...</td>\n",
       "      <td>...</td>\n",
       "      <td>...</td>\n",
       "    </tr>\n",
       "    <tr>\n",
       "      <th>1453</th>\n",
       "      <td>1454</td>\n",
       "      <td>20</td>\n",
       "      <td>RL</td>\n",
       "      <td>90.0</td>\n",
       "      <td>17217</td>\n",
       "      <td>Pave</td>\n",
       "      <td>NaN</td>\n",
       "      <td>Reg</td>\n",
       "      <td>Lvl</td>\n",
       "      <td>AllPub</td>\n",
       "      <td>...</td>\n",
       "      <td>0</td>\n",
       "      <td>NaN</td>\n",
       "      <td>NaN</td>\n",
       "      <td>NaN</td>\n",
       "      <td>0</td>\n",
       "      <td>7</td>\n",
       "      <td>2006</td>\n",
       "      <td>WD</td>\n",
       "      <td>Abnorml</td>\n",
       "      <td>84500</td>\n",
       "    </tr>\n",
       "    <tr>\n",
       "      <th>1456</th>\n",
       "      <td>1457</td>\n",
       "      <td>20</td>\n",
       "      <td>RL</td>\n",
       "      <td>85.0</td>\n",
       "      <td>13175</td>\n",
       "      <td>Pave</td>\n",
       "      <td>NaN</td>\n",
       "      <td>Reg</td>\n",
       "      <td>Lvl</td>\n",
       "      <td>AllPub</td>\n",
       "      <td>...</td>\n",
       "      <td>0</td>\n",
       "      <td>NaN</td>\n",
       "      <td>MnPrv</td>\n",
       "      <td>NaN</td>\n",
       "      <td>0</td>\n",
       "      <td>2</td>\n",
       "      <td>2010</td>\n",
       "      <td>WD</td>\n",
       "      <td>Normal</td>\n",
       "      <td>210000</td>\n",
       "    </tr>\n",
       "    <tr>\n",
       "      <th>1457</th>\n",
       "      <td>1458</td>\n",
       "      <td>70</td>\n",
       "      <td>RL</td>\n",
       "      <td>66.0</td>\n",
       "      <td>9042</td>\n",
       "      <td>Pave</td>\n",
       "      <td>NaN</td>\n",
       "      <td>Reg</td>\n",
       "      <td>Lvl</td>\n",
       "      <td>AllPub</td>\n",
       "      <td>...</td>\n",
       "      <td>0</td>\n",
       "      <td>NaN</td>\n",
       "      <td>GdPrv</td>\n",
       "      <td>Shed</td>\n",
       "      <td>2500</td>\n",
       "      <td>5</td>\n",
       "      <td>2010</td>\n",
       "      <td>WD</td>\n",
       "      <td>Normal</td>\n",
       "      <td>266500</td>\n",
       "    </tr>\n",
       "    <tr>\n",
       "      <th>1458</th>\n",
       "      <td>1459</td>\n",
       "      <td>20</td>\n",
       "      <td>RL</td>\n",
       "      <td>68.0</td>\n",
       "      <td>9717</td>\n",
       "      <td>Pave</td>\n",
       "      <td>NaN</td>\n",
       "      <td>Reg</td>\n",
       "      <td>Lvl</td>\n",
       "      <td>AllPub</td>\n",
       "      <td>...</td>\n",
       "      <td>0</td>\n",
       "      <td>NaN</td>\n",
       "      <td>NaN</td>\n",
       "      <td>NaN</td>\n",
       "      <td>0</td>\n",
       "      <td>4</td>\n",
       "      <td>2010</td>\n",
       "      <td>WD</td>\n",
       "      <td>Normal</td>\n",
       "      <td>142125</td>\n",
       "    </tr>\n",
       "    <tr>\n",
       "      <th>1459</th>\n",
       "      <td>1460</td>\n",
       "      <td>20</td>\n",
       "      <td>RL</td>\n",
       "      <td>75.0</td>\n",
       "      <td>9937</td>\n",
       "      <td>Pave</td>\n",
       "      <td>NaN</td>\n",
       "      <td>Reg</td>\n",
       "      <td>Lvl</td>\n",
       "      <td>AllPub</td>\n",
       "      <td>...</td>\n",
       "      <td>0</td>\n",
       "      <td>NaN</td>\n",
       "      <td>NaN</td>\n",
       "      <td>NaN</td>\n",
       "      <td>0</td>\n",
       "      <td>6</td>\n",
       "      <td>2008</td>\n",
       "      <td>WD</td>\n",
       "      <td>Normal</td>\n",
       "      <td>147500</td>\n",
       "    </tr>\n",
       "  </tbody>\n",
       "</table>\n",
       "<p>947 rows × 81 columns</p>\n",
       "</div>"
      ],
      "text/plain": [
       "        Id  MSSubClass MSZoning  LotFrontage  LotArea Street Alley LotShape  \\\n",
       "1        2          20       RL         80.0     9600   Pave   NaN      Reg   \n",
       "2        3          60       RL         68.0    11250   Pave   NaN      IR1   \n",
       "3        4          70       RL         60.0     9550   Pave   NaN      IR1   \n",
       "4        5          60       RL         84.0    14260   Pave   NaN      IR1   \n",
       "5        6          50       RL         85.0    14115   Pave   NaN      IR1   \n",
       "...    ...         ...      ...          ...      ...    ...   ...      ...   \n",
       "1453  1454          20       RL         90.0    17217   Pave   NaN      Reg   \n",
       "1456  1457          20       RL         85.0    13175   Pave   NaN      Reg   \n",
       "1457  1458          70       RL         66.0     9042   Pave   NaN      Reg   \n",
       "1458  1459          20       RL         68.0     9717   Pave   NaN      Reg   \n",
       "1459  1460          20       RL         75.0     9937   Pave   NaN      Reg   \n",
       "\n",
       "     LandContour Utilities  ... PoolArea PoolQC  Fence MiscFeature MiscVal  \\\n",
       "1            Lvl    AllPub  ...        0    NaN    NaN         NaN       0   \n",
       "2            Lvl    AllPub  ...        0    NaN    NaN         NaN       0   \n",
       "3            Lvl    AllPub  ...        0    NaN    NaN         NaN       0   \n",
       "4            Lvl    AllPub  ...        0    NaN    NaN         NaN       0   \n",
       "5            Lvl    AllPub  ...        0    NaN  MnPrv        Shed     700   \n",
       "...          ...       ...  ...      ...    ...    ...         ...     ...   \n",
       "1453         Lvl    AllPub  ...        0    NaN    NaN         NaN       0   \n",
       "1456         Lvl    AllPub  ...        0    NaN  MnPrv         NaN       0   \n",
       "1457         Lvl    AllPub  ...        0    NaN  GdPrv        Shed    2500   \n",
       "1458         Lvl    AllPub  ...        0    NaN    NaN         NaN       0   \n",
       "1459         Lvl    AllPub  ...        0    NaN    NaN         NaN       0   \n",
       "\n",
       "     MoSold YrSold  SaleType  SaleCondition  SalePrice  \n",
       "1         5   2007        WD         Normal     181500  \n",
       "2         9   2008        WD         Normal     223500  \n",
       "3         2   2006        WD        Abnorml     140000  \n",
       "4        12   2008        WD         Normal     250000  \n",
       "5        10   2009        WD         Normal     143000  \n",
       "...     ...    ...       ...            ...        ...  \n",
       "1453      7   2006        WD        Abnorml      84500  \n",
       "1456      2   2010        WD         Normal     210000  \n",
       "1457      5   2010        WD         Normal     266500  \n",
       "1458      4   2010        WD         Normal     142125  \n",
       "1459      6   2008        WD         Normal     147500  \n",
       "\n",
       "[947 rows x 81 columns]"
      ]
     },
     "execution_count": 5,
     "metadata": {},
     "output_type": "execute_result"
    }
   ],
   "source": [
    "train_data.loc[train_data['LotArea']>8450 ]"
   ]
  },
  {
   "cell_type": "code",
   "execution_count": 6,
   "id": "396462b8",
   "metadata": {
    "execution": {
     "iopub.execute_input": "2023-04-12T20:46:03.115255Z",
     "iopub.status.busy": "2023-04-12T20:46:03.114876Z",
     "iopub.status.idle": "2023-04-12T20:46:03.129230Z",
     "shell.execute_reply": "2023-04-12T20:46:03.128240Z"
    },
    "papermill": {
     "duration": 0.029089,
     "end_time": "2023-04-12T20:46:03.132386",
     "exception": false,
     "start_time": "2023-04-12T20:46:03.103297",
     "status": "completed"
    },
    "tags": []
   },
   "outputs": [
    {
     "data": {
      "text/html": [
       "<div>\n",
       "<style scoped>\n",
       "    .dataframe tbody tr th:only-of-type {\n",
       "        vertical-align: middle;\n",
       "    }\n",
       "\n",
       "    .dataframe tbody tr th {\n",
       "        vertical-align: top;\n",
       "    }\n",
       "\n",
       "    .dataframe thead th {\n",
       "        text-align: right;\n",
       "    }\n",
       "</style>\n",
       "<table border=\"1\" class=\"dataframe\">\n",
       "  <thead>\n",
       "    <tr style=\"text-align: right;\">\n",
       "      <th></th>\n",
       "      <th>MSSubClass</th>\n",
       "      <th>MSZoning</th>\n",
       "      <th>LotFrontage</th>\n",
       "      <th>LotArea</th>\n",
       "      <th>Street</th>\n",
       "    </tr>\n",
       "  </thead>\n",
       "  <tbody>\n",
       "    <tr>\n",
       "      <th>0</th>\n",
       "      <td>60</td>\n",
       "      <td>RL</td>\n",
       "      <td>65.0</td>\n",
       "      <td>8450</td>\n",
       "      <td>Pave</td>\n",
       "    </tr>\n",
       "    <tr>\n",
       "      <th>1</th>\n",
       "      <td>20</td>\n",
       "      <td>RL</td>\n",
       "      <td>80.0</td>\n",
       "      <td>9600</td>\n",
       "      <td>Pave</td>\n",
       "    </tr>\n",
       "    <tr>\n",
       "      <th>2</th>\n",
       "      <td>60</td>\n",
       "      <td>RL</td>\n",
       "      <td>68.0</td>\n",
       "      <td>11250</td>\n",
       "      <td>Pave</td>\n",
       "    </tr>\n",
       "    <tr>\n",
       "      <th>3</th>\n",
       "      <td>70</td>\n",
       "      <td>RL</td>\n",
       "      <td>60.0</td>\n",
       "      <td>9550</td>\n",
       "      <td>Pave</td>\n",
       "    </tr>\n",
       "    <tr>\n",
       "      <th>4</th>\n",
       "      <td>60</td>\n",
       "      <td>RL</td>\n",
       "      <td>84.0</td>\n",
       "      <td>14260</td>\n",
       "      <td>Pave</td>\n",
       "    </tr>\n",
       "    <tr>\n",
       "      <th>5</th>\n",
       "      <td>50</td>\n",
       "      <td>RL</td>\n",
       "      <td>85.0</td>\n",
       "      <td>14115</td>\n",
       "      <td>Pave</td>\n",
       "    </tr>\n",
       "  </tbody>\n",
       "</table>\n",
       "</div>"
      ],
      "text/plain": [
       "   MSSubClass MSZoning  LotFrontage  LotArea Street\n",
       "0          60       RL         65.0     8450   Pave\n",
       "1          20       RL         80.0     9600   Pave\n",
       "2          60       RL         68.0    11250   Pave\n",
       "3          70       RL         60.0     9550   Pave\n",
       "4          60       RL         84.0    14260   Pave\n",
       "5          50       RL         85.0    14115   Pave"
      ]
     },
     "execution_count": 6,
     "metadata": {},
     "output_type": "execute_result"
    }
   ],
   "source": [
    "train_data.loc[0:5,'MSSubClass':'Street']"
   ]
  },
  {
   "cell_type": "code",
   "execution_count": 7,
   "id": "721ce39c",
   "metadata": {
    "execution": {
     "iopub.execute_input": "2023-04-12T20:46:03.155936Z",
     "iopub.status.busy": "2023-04-12T20:46:03.155509Z",
     "iopub.status.idle": "2023-04-12T20:46:03.161773Z",
     "shell.execute_reply": "2023-04-12T20:46:03.160487Z"
    },
    "papermill": {
     "duration": 0.020291,
     "end_time": "2023-04-12T20:46:03.163895",
     "exception": false,
     "start_time": "2023-04-12T20:46:03.143604",
     "status": "completed"
    },
    "tags": []
   },
   "outputs": [],
   "source": [
    "x_train_data=train_data.iloc[:,:-1]"
   ]
  },
  {
   "cell_type": "code",
   "execution_count": 8,
   "id": "33f4b62e",
   "metadata": {
    "execution": {
     "iopub.execute_input": "2023-04-12T20:46:03.188157Z",
     "iopub.status.busy": "2023-04-12T20:46:03.187765Z",
     "iopub.status.idle": "2023-04-12T20:46:03.193142Z",
     "shell.execute_reply": "2023-04-12T20:46:03.191578Z"
    },
    "papermill": {
     "duration": 0.020495,
     "end_time": "2023-04-12T20:46:03.195377",
     "exception": false,
     "start_time": "2023-04-12T20:46:03.174882",
     "status": "completed"
    },
    "tags": []
   },
   "outputs": [],
   "source": [
    "y_train_data=train_data.loc[:,'SalePrice']"
   ]
  },
  {
   "cell_type": "code",
   "execution_count": 9,
   "id": "a5aa4887",
   "metadata": {
    "execution": {
     "iopub.execute_input": "2023-04-12T20:46:03.218577Z",
     "iopub.status.busy": "2023-04-12T20:46:03.218189Z",
     "iopub.status.idle": "2023-04-12T20:46:03.228806Z",
     "shell.execute_reply": "2023-04-12T20:46:03.227622Z"
    },
    "papermill": {
     "duration": 0.025429,
     "end_time": "2023-04-12T20:46:03.231585",
     "exception": false,
     "start_time": "2023-04-12T20:46:03.206156",
     "status": "completed"
    },
    "tags": []
   },
   "outputs": [
    {
     "data": {
      "text/plain": [
       "0        True\n",
       "1        True\n",
       "2        True\n",
       "3        True\n",
       "4        True\n",
       "        ...  \n",
       "1455     True\n",
       "1456     True\n",
       "1457    False\n",
       "1458     True\n",
       "1459     True\n",
       "Name: MiscFeature, Length: 1460, dtype: bool"
      ]
     },
     "execution_count": 9,
     "metadata": {},
     "output_type": "execute_result"
    }
   ],
   "source": [
    "#check missing values\n",
    "x_train_data.loc[:,'MiscFeature'].isnull()"
   ]
  },
  {
   "cell_type": "code",
   "execution_count": 10,
   "id": "10f8edfc",
   "metadata": {
    "execution": {
     "iopub.execute_input": "2023-04-12T20:46:03.255079Z",
     "iopub.status.busy": "2023-04-12T20:46:03.254637Z",
     "iopub.status.idle": "2023-04-12T20:46:03.268632Z",
     "shell.execute_reply": "2023-04-12T20:46:03.267668Z"
    },
    "papermill": {
     "duration": 0.028064,
     "end_time": "2023-04-12T20:46:03.270706",
     "exception": false,
     "start_time": "2023-04-12T20:46:03.242642",
     "status": "completed"
    },
    "tags": []
   },
   "outputs": [
    {
     "data": {
      "text/plain": [
       "Id               False\n",
       "MSSubClass       False\n",
       "MSZoning         False\n",
       "LotFrontage       True\n",
       "LotArea          False\n",
       "                 ...  \n",
       "MiscVal          False\n",
       "MoSold           False\n",
       "YrSold           False\n",
       "SaleType         False\n",
       "SaleCondition    False\n",
       "Length: 80, dtype: bool"
      ]
     },
     "execution_count": 10,
     "metadata": {},
     "output_type": "execute_result"
    }
   ],
   "source": [
    "# Create a boolean mask of missing values\n",
    "missing_values_mask = x_train_data.isnull()\n",
    "missing_values_mask.any()\n"
   ]
  },
  {
   "cell_type": "code",
   "execution_count": 11,
   "id": "b5222c43",
   "metadata": {
    "execution": {
     "iopub.execute_input": "2023-04-12T20:46:03.295083Z",
     "iopub.status.busy": "2023-04-12T20:46:03.294721Z",
     "iopub.status.idle": "2023-04-12T20:46:03.304936Z",
     "shell.execute_reply": "2023-04-12T20:46:03.303111Z"
    },
    "papermill": {
     "duration": 0.025375,
     "end_time": "2023-04-12T20:46:03.307650",
     "exception": false,
     "start_time": "2023-04-12T20:46:03.282275",
     "status": "completed"
    },
    "tags": []
   },
   "outputs": [
    {
     "data": {
      "text/plain": [
       "Index(['LotFrontage', 'Alley', 'MasVnrType', 'MasVnrArea', 'BsmtQual',\n",
       "       'BsmtCond', 'BsmtExposure', 'BsmtFinType1', 'BsmtFinType2',\n",
       "       'Electrical', 'FireplaceQu', 'GarageType', 'GarageYrBlt',\n",
       "       'GarageFinish', 'GarageQual', 'GarageCond', 'PoolQC', 'Fence',\n",
       "       'MiscFeature'],\n",
       "      dtype='object')"
      ]
     },
     "execution_count": 11,
     "metadata": {},
     "output_type": "execute_result"
    }
   ],
   "source": [
    "#columns of missing values\n",
    "x_train_data.columns[missing_values_mask.any()]"
   ]
  },
  {
   "cell_type": "code",
   "execution_count": 12,
   "id": "d93f7d4e",
   "metadata": {
    "execution": {
     "iopub.execute_input": "2023-04-12T20:46:03.331591Z",
     "iopub.status.busy": "2023-04-12T20:46:03.331231Z",
     "iopub.status.idle": "2023-04-12T20:46:04.437050Z",
     "shell.execute_reply": "2023-04-12T20:46:04.436216Z"
    },
    "papermill": {
     "duration": 1.120661,
     "end_time": "2023-04-12T20:46:04.439519",
     "exception": false,
     "start_time": "2023-04-12T20:46:03.318858",
     "status": "completed"
    },
    "tags": []
   },
   "outputs": [],
   "source": [
    "#convert categorial values \n",
    "from sklearn.preprocessing import LabelEncoder, OneHotEncoder"
   ]
  },
  {
   "cell_type": "code",
   "execution_count": 13,
   "id": "b7e2e575",
   "metadata": {
    "execution": {
     "iopub.execute_input": "2023-04-12T20:46:04.464799Z",
     "iopub.status.busy": "2023-04-12T20:46:04.464365Z",
     "iopub.status.idle": "2023-04-12T20:46:04.474370Z",
     "shell.execute_reply": "2023-04-12T20:46:04.472990Z"
    },
    "papermill": {
     "duration": 0.026794,
     "end_time": "2023-04-12T20:46:04.477430",
     "exception": false,
     "start_time": "2023-04-12T20:46:04.450636",
     "status": "completed"
    },
    "tags": []
   },
   "outputs": [
    {
     "data": {
      "text/plain": [
       "['MSZoning',\n",
       " 'Street',\n",
       " 'Alley',\n",
       " 'LotShape',\n",
       " 'LandContour',\n",
       " 'Utilities',\n",
       " 'LotConfig',\n",
       " 'LandSlope',\n",
       " 'Neighborhood',\n",
       " 'Condition1',\n",
       " 'Condition2',\n",
       " 'BldgType',\n",
       " 'HouseStyle',\n",
       " 'RoofStyle',\n",
       " 'RoofMatl',\n",
       " 'Exterior1st',\n",
       " 'Exterior2nd',\n",
       " 'MasVnrType',\n",
       " 'ExterQual',\n",
       " 'ExterCond',\n",
       " 'Foundation',\n",
       " 'BsmtQual',\n",
       " 'BsmtCond',\n",
       " 'BsmtExposure',\n",
       " 'BsmtFinType1',\n",
       " 'BsmtFinType2',\n",
       " 'Heating',\n",
       " 'HeatingQC',\n",
       " 'CentralAir',\n",
       " 'Electrical',\n",
       " 'KitchenQual',\n",
       " 'Functional',\n",
       " 'FireplaceQu',\n",
       " 'GarageType',\n",
       " 'GarageFinish',\n",
       " 'GarageQual',\n",
       " 'GarageCond',\n",
       " 'PavedDrive',\n",
       " 'PoolQC',\n",
       " 'Fence',\n",
       " 'MiscFeature',\n",
       " 'SaleType',\n",
       " 'SaleCondition']"
      ]
     },
     "execution_count": 13,
     "metadata": {},
     "output_type": "execute_result"
    }
   ],
   "source": [
    "#check categorical columns\n",
    "cat_columns=x_train_data.dtypes[x_train_data.dtypes=='object'].index.tolist()\n",
    "cat_columns"
   ]
  },
  {
   "cell_type": "code",
   "execution_count": 14,
   "id": "5f063c72",
   "metadata": {
    "execution": {
     "iopub.execute_input": "2023-04-12T20:46:04.501821Z",
     "iopub.status.busy": "2023-04-12T20:46:04.501443Z",
     "iopub.status.idle": "2023-04-12T20:46:04.507785Z",
     "shell.execute_reply": "2023-04-12T20:46:04.507047Z"
    },
    "papermill": {
     "duration": 0.020883,
     "end_time": "2023-04-12T20:46:04.509724",
     "exception": false,
     "start_time": "2023-04-12T20:46:04.488841",
     "status": "completed"
    },
    "tags": []
   },
   "outputs": [],
   "source": [
    "x_cat_train=x_train_data[cat_columns]"
   ]
  },
  {
   "cell_type": "code",
   "execution_count": 15,
   "id": "318eadc4",
   "metadata": {
    "execution": {
     "iopub.execute_input": "2023-04-12T20:46:04.535449Z",
     "iopub.status.busy": "2023-04-12T20:46:04.534264Z",
     "iopub.status.idle": "2023-04-12T20:46:04.584488Z",
     "shell.execute_reply": "2023-04-12T20:46:04.583000Z"
    },
    "papermill": {
     "duration": 0.065598,
     "end_time": "2023-04-12T20:46:04.587017",
     "exception": false,
     "start_time": "2023-04-12T20:46:04.521419",
     "status": "completed"
    },
    "tags": []
   },
   "outputs": [
    {
     "name": "stderr",
     "output_type": "stream",
     "text": [
      "/opt/conda/lib/python3.7/site-packages/sklearn/utils/deprecation.py:87: FutureWarning: Function get_feature_names is deprecated; get_feature_names is deprecated in 1.0 and will be removed in 1.2. Please use get_feature_names_out instead.\n",
      "  warnings.warn(msg, category=FutureWarning)\n"
     ]
    }
   ],
   "source": [
    "# create an instance of the OneHotEncoder\n",
    "onehot = OneHotEncoder()\n",
    "\n",
    "# fit and transform the categorical features\n",
    "X_onehot = onehot.fit_transform(x_cat_train)\n",
    "\n",
    "# create a dataframe from the one-hot encoded data\n",
    "df_onehot = pd.DataFrame.sparse.from_spmatrix(X_onehot,\n",
    "                                              columns=onehot.get_feature_names(cat_columns))\n",
    "\n",
    "# combine the one-hot encoded data with the remaining features\n",
    "df_encoded = pd.concat([df_onehot, x_train_data.drop(cat_columns, axis=1)], axis=1)\n"
   ]
  },
  {
   "cell_type": "code",
   "execution_count": 16,
   "id": "c8fd4f20",
   "metadata": {
    "execution": {
     "iopub.execute_input": "2023-04-12T20:46:04.613646Z",
     "iopub.status.busy": "2023-04-12T20:46:04.612315Z",
     "iopub.status.idle": "2023-04-12T20:46:04.653837Z",
     "shell.execute_reply": "2023-04-12T20:46:04.652295Z"
    },
    "papermill": {
     "duration": 0.057494,
     "end_time": "2023-04-12T20:46:04.656258",
     "exception": false,
     "start_time": "2023-04-12T20:46:04.598764",
     "status": "completed"
    },
    "tags": []
   },
   "outputs": [
    {
     "data": {
      "text/html": [
       "<div>\n",
       "<style scoped>\n",
       "    .dataframe tbody tr th:only-of-type {\n",
       "        vertical-align: middle;\n",
       "    }\n",
       "\n",
       "    .dataframe tbody tr th {\n",
       "        vertical-align: top;\n",
       "    }\n",
       "\n",
       "    .dataframe thead th {\n",
       "        text-align: right;\n",
       "    }\n",
       "</style>\n",
       "<table border=\"1\" class=\"dataframe\">\n",
       "  <thead>\n",
       "    <tr style=\"text-align: right;\">\n",
       "      <th></th>\n",
       "      <th>MSZoning_C (all)</th>\n",
       "      <th>MSZoning_FV</th>\n",
       "      <th>MSZoning_RH</th>\n",
       "      <th>MSZoning_RL</th>\n",
       "      <th>MSZoning_RM</th>\n",
       "      <th>Street_Grvl</th>\n",
       "      <th>Street_Pave</th>\n",
       "      <th>Alley_Grvl</th>\n",
       "      <th>Alley_Pave</th>\n",
       "      <th>Alley_nan</th>\n",
       "      <th>...</th>\n",
       "      <th>GarageArea</th>\n",
       "      <th>WoodDeckSF</th>\n",
       "      <th>OpenPorchSF</th>\n",
       "      <th>EnclosedPorch</th>\n",
       "      <th>3SsnPorch</th>\n",
       "      <th>ScreenPorch</th>\n",
       "      <th>PoolArea</th>\n",
       "      <th>MiscVal</th>\n",
       "      <th>MoSold</th>\n",
       "      <th>YrSold</th>\n",
       "    </tr>\n",
       "  </thead>\n",
       "  <tbody>\n",
       "    <tr>\n",
       "      <th>0</th>\n",
       "      <td>0.0</td>\n",
       "      <td>0.0</td>\n",
       "      <td>0.0</td>\n",
       "      <td>1.0</td>\n",
       "      <td>0.0</td>\n",
       "      <td>0.0</td>\n",
       "      <td>1.0</td>\n",
       "      <td>0.0</td>\n",
       "      <td>0.0</td>\n",
       "      <td>1.0</td>\n",
       "      <td>...</td>\n",
       "      <td>548</td>\n",
       "      <td>0</td>\n",
       "      <td>61</td>\n",
       "      <td>0</td>\n",
       "      <td>0</td>\n",
       "      <td>0</td>\n",
       "      <td>0</td>\n",
       "      <td>0</td>\n",
       "      <td>2</td>\n",
       "      <td>2008</td>\n",
       "    </tr>\n",
       "    <tr>\n",
       "      <th>1</th>\n",
       "      <td>0.0</td>\n",
       "      <td>0.0</td>\n",
       "      <td>0.0</td>\n",
       "      <td>1.0</td>\n",
       "      <td>0.0</td>\n",
       "      <td>0.0</td>\n",
       "      <td>1.0</td>\n",
       "      <td>0.0</td>\n",
       "      <td>0.0</td>\n",
       "      <td>1.0</td>\n",
       "      <td>...</td>\n",
       "      <td>460</td>\n",
       "      <td>298</td>\n",
       "      <td>0</td>\n",
       "      <td>0</td>\n",
       "      <td>0</td>\n",
       "      <td>0</td>\n",
       "      <td>0</td>\n",
       "      <td>0</td>\n",
       "      <td>5</td>\n",
       "      <td>2007</td>\n",
       "    </tr>\n",
       "    <tr>\n",
       "      <th>2</th>\n",
       "      <td>0.0</td>\n",
       "      <td>0.0</td>\n",
       "      <td>0.0</td>\n",
       "      <td>1.0</td>\n",
       "      <td>0.0</td>\n",
       "      <td>0.0</td>\n",
       "      <td>1.0</td>\n",
       "      <td>0.0</td>\n",
       "      <td>0.0</td>\n",
       "      <td>1.0</td>\n",
       "      <td>...</td>\n",
       "      <td>608</td>\n",
       "      <td>0</td>\n",
       "      <td>42</td>\n",
       "      <td>0</td>\n",
       "      <td>0</td>\n",
       "      <td>0</td>\n",
       "      <td>0</td>\n",
       "      <td>0</td>\n",
       "      <td>9</td>\n",
       "      <td>2008</td>\n",
       "    </tr>\n",
       "    <tr>\n",
       "      <th>3</th>\n",
       "      <td>0.0</td>\n",
       "      <td>0.0</td>\n",
       "      <td>0.0</td>\n",
       "      <td>1.0</td>\n",
       "      <td>0.0</td>\n",
       "      <td>0.0</td>\n",
       "      <td>1.0</td>\n",
       "      <td>0.0</td>\n",
       "      <td>0.0</td>\n",
       "      <td>1.0</td>\n",
       "      <td>...</td>\n",
       "      <td>642</td>\n",
       "      <td>0</td>\n",
       "      <td>35</td>\n",
       "      <td>272</td>\n",
       "      <td>0</td>\n",
       "      <td>0</td>\n",
       "      <td>0</td>\n",
       "      <td>0</td>\n",
       "      <td>2</td>\n",
       "      <td>2006</td>\n",
       "    </tr>\n",
       "    <tr>\n",
       "      <th>4</th>\n",
       "      <td>0.0</td>\n",
       "      <td>0.0</td>\n",
       "      <td>0.0</td>\n",
       "      <td>1.0</td>\n",
       "      <td>0.0</td>\n",
       "      <td>0.0</td>\n",
       "      <td>1.0</td>\n",
       "      <td>0.0</td>\n",
       "      <td>0.0</td>\n",
       "      <td>1.0</td>\n",
       "      <td>...</td>\n",
       "      <td>836</td>\n",
       "      <td>192</td>\n",
       "      <td>84</td>\n",
       "      <td>0</td>\n",
       "      <td>0</td>\n",
       "      <td>0</td>\n",
       "      <td>0</td>\n",
       "      <td>0</td>\n",
       "      <td>12</td>\n",
       "      <td>2008</td>\n",
       "    </tr>\n",
       "    <tr>\n",
       "      <th>...</th>\n",
       "      <td>...</td>\n",
       "      <td>...</td>\n",
       "      <td>...</td>\n",
       "      <td>...</td>\n",
       "      <td>...</td>\n",
       "      <td>...</td>\n",
       "      <td>...</td>\n",
       "      <td>...</td>\n",
       "      <td>...</td>\n",
       "      <td>...</td>\n",
       "      <td>...</td>\n",
       "      <td>...</td>\n",
       "      <td>...</td>\n",
       "      <td>...</td>\n",
       "      <td>...</td>\n",
       "      <td>...</td>\n",
       "      <td>...</td>\n",
       "      <td>...</td>\n",
       "      <td>...</td>\n",
       "      <td>...</td>\n",
       "      <td>...</td>\n",
       "    </tr>\n",
       "    <tr>\n",
       "      <th>1455</th>\n",
       "      <td>0.0</td>\n",
       "      <td>0.0</td>\n",
       "      <td>0.0</td>\n",
       "      <td>1.0</td>\n",
       "      <td>0.0</td>\n",
       "      <td>0.0</td>\n",
       "      <td>1.0</td>\n",
       "      <td>0.0</td>\n",
       "      <td>0.0</td>\n",
       "      <td>1.0</td>\n",
       "      <td>...</td>\n",
       "      <td>460</td>\n",
       "      <td>0</td>\n",
       "      <td>40</td>\n",
       "      <td>0</td>\n",
       "      <td>0</td>\n",
       "      <td>0</td>\n",
       "      <td>0</td>\n",
       "      <td>0</td>\n",
       "      <td>8</td>\n",
       "      <td>2007</td>\n",
       "    </tr>\n",
       "    <tr>\n",
       "      <th>1456</th>\n",
       "      <td>0.0</td>\n",
       "      <td>0.0</td>\n",
       "      <td>0.0</td>\n",
       "      <td>1.0</td>\n",
       "      <td>0.0</td>\n",
       "      <td>0.0</td>\n",
       "      <td>1.0</td>\n",
       "      <td>0.0</td>\n",
       "      <td>0.0</td>\n",
       "      <td>1.0</td>\n",
       "      <td>...</td>\n",
       "      <td>500</td>\n",
       "      <td>349</td>\n",
       "      <td>0</td>\n",
       "      <td>0</td>\n",
       "      <td>0</td>\n",
       "      <td>0</td>\n",
       "      <td>0</td>\n",
       "      <td>0</td>\n",
       "      <td>2</td>\n",
       "      <td>2010</td>\n",
       "    </tr>\n",
       "    <tr>\n",
       "      <th>1457</th>\n",
       "      <td>0.0</td>\n",
       "      <td>0.0</td>\n",
       "      <td>0.0</td>\n",
       "      <td>1.0</td>\n",
       "      <td>0.0</td>\n",
       "      <td>0.0</td>\n",
       "      <td>1.0</td>\n",
       "      <td>0.0</td>\n",
       "      <td>0.0</td>\n",
       "      <td>1.0</td>\n",
       "      <td>...</td>\n",
       "      <td>252</td>\n",
       "      <td>0</td>\n",
       "      <td>60</td>\n",
       "      <td>0</td>\n",
       "      <td>0</td>\n",
       "      <td>0</td>\n",
       "      <td>0</td>\n",
       "      <td>2500</td>\n",
       "      <td>5</td>\n",
       "      <td>2010</td>\n",
       "    </tr>\n",
       "    <tr>\n",
       "      <th>1458</th>\n",
       "      <td>0.0</td>\n",
       "      <td>0.0</td>\n",
       "      <td>0.0</td>\n",
       "      <td>1.0</td>\n",
       "      <td>0.0</td>\n",
       "      <td>0.0</td>\n",
       "      <td>1.0</td>\n",
       "      <td>0.0</td>\n",
       "      <td>0.0</td>\n",
       "      <td>1.0</td>\n",
       "      <td>...</td>\n",
       "      <td>240</td>\n",
       "      <td>366</td>\n",
       "      <td>0</td>\n",
       "      <td>112</td>\n",
       "      <td>0</td>\n",
       "      <td>0</td>\n",
       "      <td>0</td>\n",
       "      <td>0</td>\n",
       "      <td>4</td>\n",
       "      <td>2010</td>\n",
       "    </tr>\n",
       "    <tr>\n",
       "      <th>1459</th>\n",
       "      <td>0.0</td>\n",
       "      <td>0.0</td>\n",
       "      <td>0.0</td>\n",
       "      <td>1.0</td>\n",
       "      <td>0.0</td>\n",
       "      <td>0.0</td>\n",
       "      <td>1.0</td>\n",
       "      <td>0.0</td>\n",
       "      <td>0.0</td>\n",
       "      <td>1.0</td>\n",
       "      <td>...</td>\n",
       "      <td>276</td>\n",
       "      <td>736</td>\n",
       "      <td>68</td>\n",
       "      <td>0</td>\n",
       "      <td>0</td>\n",
       "      <td>0</td>\n",
       "      <td>0</td>\n",
       "      <td>0</td>\n",
       "      <td>6</td>\n",
       "      <td>2008</td>\n",
       "    </tr>\n",
       "  </tbody>\n",
       "</table>\n",
       "<p>1460 rows × 305 columns</p>\n",
       "</div>"
      ],
      "text/plain": [
       "      MSZoning_C (all)  MSZoning_FV  MSZoning_RH  MSZoning_RL  MSZoning_RM  \\\n",
       "0                  0.0          0.0          0.0          1.0          0.0   \n",
       "1                  0.0          0.0          0.0          1.0          0.0   \n",
       "2                  0.0          0.0          0.0          1.0          0.0   \n",
       "3                  0.0          0.0          0.0          1.0          0.0   \n",
       "4                  0.0          0.0          0.0          1.0          0.0   \n",
       "...                ...          ...          ...          ...          ...   \n",
       "1455               0.0          0.0          0.0          1.0          0.0   \n",
       "1456               0.0          0.0          0.0          1.0          0.0   \n",
       "1457               0.0          0.0          0.0          1.0          0.0   \n",
       "1458               0.0          0.0          0.0          1.0          0.0   \n",
       "1459               0.0          0.0          0.0          1.0          0.0   \n",
       "\n",
       "      Street_Grvl  Street_Pave  Alley_Grvl  Alley_Pave  Alley_nan  ...  \\\n",
       "0             0.0          1.0         0.0         0.0        1.0  ...   \n",
       "1             0.0          1.0         0.0         0.0        1.0  ...   \n",
       "2             0.0          1.0         0.0         0.0        1.0  ...   \n",
       "3             0.0          1.0         0.0         0.0        1.0  ...   \n",
       "4             0.0          1.0         0.0         0.0        1.0  ...   \n",
       "...           ...          ...         ...         ...        ...  ...   \n",
       "1455          0.0          1.0         0.0         0.0        1.0  ...   \n",
       "1456          0.0          1.0         0.0         0.0        1.0  ...   \n",
       "1457          0.0          1.0         0.0         0.0        1.0  ...   \n",
       "1458          0.0          1.0         0.0         0.0        1.0  ...   \n",
       "1459          0.0          1.0         0.0         0.0        1.0  ...   \n",
       "\n",
       "      GarageArea  WoodDeckSF  OpenPorchSF  EnclosedPorch  3SsnPorch  \\\n",
       "0            548           0           61              0          0   \n",
       "1            460         298            0              0          0   \n",
       "2            608           0           42              0          0   \n",
       "3            642           0           35            272          0   \n",
       "4            836         192           84              0          0   \n",
       "...          ...         ...          ...            ...        ...   \n",
       "1455         460           0           40              0          0   \n",
       "1456         500         349            0              0          0   \n",
       "1457         252           0           60              0          0   \n",
       "1458         240         366            0            112          0   \n",
       "1459         276         736           68              0          0   \n",
       "\n",
       "      ScreenPorch  PoolArea  MiscVal  MoSold  YrSold  \n",
       "0               0         0        0       2    2008  \n",
       "1               0         0        0       5    2007  \n",
       "2               0         0        0       9    2008  \n",
       "3               0         0        0       2    2006  \n",
       "4               0         0        0      12    2008  \n",
       "...           ...       ...      ...     ...     ...  \n",
       "1455            0         0        0       8    2007  \n",
       "1456            0         0        0       2    2010  \n",
       "1457            0         0     2500       5    2010  \n",
       "1458            0         0        0       4    2010  \n",
       "1459            0         0        0       6    2008  \n",
       "\n",
       "[1460 rows x 305 columns]"
      ]
     },
     "execution_count": 16,
     "metadata": {},
     "output_type": "execute_result"
    }
   ],
   "source": [
    "df_encoded"
   ]
  },
  {
   "cell_type": "code",
   "execution_count": 17,
   "id": "3f29edec",
   "metadata": {
    "execution": {
     "iopub.execute_input": "2023-04-12T20:46:04.681403Z",
     "iopub.status.busy": "2023-04-12T20:46:04.680995Z",
     "iopub.status.idle": "2023-04-12T20:46:04.713429Z",
     "shell.execute_reply": "2023-04-12T20:46:04.711612Z"
    },
    "papermill": {
     "duration": 0.048217,
     "end_time": "2023-04-12T20:46:04.716210",
     "exception": false,
     "start_time": "2023-04-12T20:46:04.667993",
     "status": "completed"
    },
    "tags": []
   },
   "outputs": [],
   "source": [
    "miss_columns=df_encoded.columns[df_encoded.isnull().any()]"
   ]
  },
  {
   "cell_type": "code",
   "execution_count": 18,
   "id": "b42136c4",
   "metadata": {
    "execution": {
     "iopub.execute_input": "2023-04-12T20:46:04.743617Z",
     "iopub.status.busy": "2023-04-12T20:46:04.742486Z",
     "iopub.status.idle": "2023-04-12T20:46:04.760803Z",
     "shell.execute_reply": "2023-04-12T20:46:04.759253Z"
    },
    "papermill": {
     "duration": 0.034406,
     "end_time": "2023-04-12T20:46:04.763606",
     "exception": false,
     "start_time": "2023-04-12T20:46:04.729200",
     "status": "completed"
    },
    "tags": []
   },
   "outputs": [
    {
     "data": {
      "text/html": [
       "<div>\n",
       "<style scoped>\n",
       "    .dataframe tbody tr th:only-of-type {\n",
       "        vertical-align: middle;\n",
       "    }\n",
       "\n",
       "    .dataframe tbody tr th {\n",
       "        vertical-align: top;\n",
       "    }\n",
       "\n",
       "    .dataframe thead th {\n",
       "        text-align: right;\n",
       "    }\n",
       "</style>\n",
       "<table border=\"1\" class=\"dataframe\">\n",
       "  <thead>\n",
       "    <tr style=\"text-align: right;\">\n",
       "      <th></th>\n",
       "      <th>LotFrontage</th>\n",
       "      <th>MasVnrArea</th>\n",
       "      <th>GarageYrBlt</th>\n",
       "    </tr>\n",
       "  </thead>\n",
       "  <tbody>\n",
       "    <tr>\n",
       "      <th>0</th>\n",
       "      <td>65.0</td>\n",
       "      <td>196.0</td>\n",
       "      <td>2003.0</td>\n",
       "    </tr>\n",
       "    <tr>\n",
       "      <th>1</th>\n",
       "      <td>80.0</td>\n",
       "      <td>0.0</td>\n",
       "      <td>1976.0</td>\n",
       "    </tr>\n",
       "    <tr>\n",
       "      <th>2</th>\n",
       "      <td>68.0</td>\n",
       "      <td>162.0</td>\n",
       "      <td>2001.0</td>\n",
       "    </tr>\n",
       "    <tr>\n",
       "      <th>3</th>\n",
       "      <td>60.0</td>\n",
       "      <td>0.0</td>\n",
       "      <td>1998.0</td>\n",
       "    </tr>\n",
       "    <tr>\n",
       "      <th>4</th>\n",
       "      <td>84.0</td>\n",
       "      <td>350.0</td>\n",
       "      <td>2000.0</td>\n",
       "    </tr>\n",
       "    <tr>\n",
       "      <th>...</th>\n",
       "      <td>...</td>\n",
       "      <td>...</td>\n",
       "      <td>...</td>\n",
       "    </tr>\n",
       "    <tr>\n",
       "      <th>1455</th>\n",
       "      <td>62.0</td>\n",
       "      <td>0.0</td>\n",
       "      <td>1999.0</td>\n",
       "    </tr>\n",
       "    <tr>\n",
       "      <th>1456</th>\n",
       "      <td>85.0</td>\n",
       "      <td>119.0</td>\n",
       "      <td>1978.0</td>\n",
       "    </tr>\n",
       "    <tr>\n",
       "      <th>1457</th>\n",
       "      <td>66.0</td>\n",
       "      <td>0.0</td>\n",
       "      <td>1941.0</td>\n",
       "    </tr>\n",
       "    <tr>\n",
       "      <th>1458</th>\n",
       "      <td>68.0</td>\n",
       "      <td>0.0</td>\n",
       "      <td>1950.0</td>\n",
       "    </tr>\n",
       "    <tr>\n",
       "      <th>1459</th>\n",
       "      <td>75.0</td>\n",
       "      <td>0.0</td>\n",
       "      <td>1965.0</td>\n",
       "    </tr>\n",
       "  </tbody>\n",
       "</table>\n",
       "<p>1460 rows × 3 columns</p>\n",
       "</div>"
      ],
      "text/plain": [
       "      LotFrontage  MasVnrArea  GarageYrBlt\n",
       "0            65.0       196.0       2003.0\n",
       "1            80.0         0.0       1976.0\n",
       "2            68.0       162.0       2001.0\n",
       "3            60.0         0.0       1998.0\n",
       "4            84.0       350.0       2000.0\n",
       "...           ...         ...          ...\n",
       "1455         62.0         0.0       1999.0\n",
       "1456         85.0       119.0       1978.0\n",
       "1457         66.0         0.0       1941.0\n",
       "1458         68.0         0.0       1950.0\n",
       "1459         75.0         0.0       1965.0\n",
       "\n",
       "[1460 rows x 3 columns]"
      ]
     },
     "execution_count": 18,
     "metadata": {},
     "output_type": "execute_result"
    }
   ],
   "source": [
    "df_encoded[miss_columns]"
   ]
  },
  {
   "cell_type": "code",
   "execution_count": 19,
   "id": "1a6b15a4",
   "metadata": {
    "execution": {
     "iopub.execute_input": "2023-04-12T20:46:04.791086Z",
     "iopub.status.busy": "2023-04-12T20:46:04.790753Z",
     "iopub.status.idle": "2023-04-12T20:46:05.105458Z",
     "shell.execute_reply": "2023-04-12T20:46:05.104522Z"
    },
    "papermill": {
     "duration": 0.330463,
     "end_time": "2023-04-12T20:46:05.107704",
     "exception": false,
     "start_time": "2023-04-12T20:46:04.777241",
     "status": "completed"
    },
    "tags": []
   },
   "outputs": [],
   "source": [
    "from sklearn.impute import SimpleImputer\n",
    "imputer = SimpleImputer(strategy='mean')\n",
    "imputer.fit(df_encoded[miss_columns])\n",
    "\n",
    "df_encoded[miss_columns] = imputer.transform(df_encoded[miss_columns])\n"
   ]
  },
  {
   "cell_type": "code",
   "execution_count": 20,
   "id": "60fc0307",
   "metadata": {
    "execution": {
     "iopub.execute_input": "2023-04-12T20:46:05.134382Z",
     "iopub.status.busy": "2023-04-12T20:46:05.132694Z",
     "iopub.status.idle": "2023-04-12T20:46:05.169145Z",
     "shell.execute_reply": "2023-04-12T20:46:05.167728Z"
    },
    "papermill": {
     "duration": 0.051588,
     "end_time": "2023-04-12T20:46:05.171313",
     "exception": false,
     "start_time": "2023-04-12T20:46:05.119725",
     "status": "completed"
    },
    "tags": []
   },
   "outputs": [
    {
     "name": "stdout",
     "output_type": "stream",
     "text": [
      "MSZoning_C (all)    0\n",
      "MSZoning_FV         0\n",
      "MSZoning_RH         0\n",
      "MSZoning_RL         0\n",
      "MSZoning_RM         0\n",
      "                   ..\n",
      "ScreenPorch         0\n",
      "PoolArea            0\n",
      "MiscVal             0\n",
      "MoSold              0\n",
      "YrSold              0\n",
      "Length: 305, dtype: int64\n"
     ]
    }
   ],
   "source": [
    "print(df_encoded.isnull().sum())"
   ]
  },
  {
   "cell_type": "markdown",
   "id": "83478c02",
   "metadata": {
    "papermill": {
     "duration": 0.011419,
     "end_time": "2023-04-12T20:46:05.194672",
     "exception": false,
     "start_time": "2023-04-12T20:46:05.183253",
     "status": "completed"
    },
    "tags": []
   },
   "source": [
    "### EDA of data"
   ]
  },
  {
   "cell_type": "code",
   "execution_count": 21,
   "id": "fe15ab8c",
   "metadata": {
    "execution": {
     "iopub.execute_input": "2023-04-12T20:46:05.220458Z",
     "iopub.status.busy": "2023-04-12T20:46:05.220088Z",
     "iopub.status.idle": "2023-04-12T20:46:05.385441Z",
     "shell.execute_reply": "2023-04-12T20:46:05.384257Z"
    },
    "papermill": {
     "duration": 0.180864,
     "end_time": "2023-04-12T20:46:05.387709",
     "exception": false,
     "start_time": "2023-04-12T20:46:05.206845",
     "status": "completed"
    },
    "tags": []
   },
   "outputs": [
    {
     "name": "stdout",
     "output_type": "stream",
     "text": [
      "0\n",
      "False\n"
     ]
    }
   ],
   "source": [
    "#check for duplicate rows\n",
    "print(df_encoded.duplicated().sum())\n",
    "print(df_encoded.duplicated().any())"
   ]
  },
  {
   "cell_type": "code",
   "execution_count": 22,
   "id": "6213c390",
   "metadata": {
    "execution": {
     "iopub.execute_input": "2023-04-12T20:46:05.421439Z",
     "iopub.status.busy": "2023-04-12T20:46:05.421051Z",
     "iopub.status.idle": "2023-04-12T20:46:05.858934Z",
     "shell.execute_reply": "2023-04-12T20:46:05.857378Z"
    },
    "papermill": {
     "duration": 0.45843,
     "end_time": "2023-04-12T20:46:05.861182",
     "exception": false,
     "start_time": "2023-04-12T20:46:05.402752",
     "status": "completed"
    },
    "tags": []
   },
   "outputs": [
    {
     "data": {
      "text/plain": [
       "<AxesSubplot:xlabel='LotFrontage'>"
      ]
     },
     "execution_count": 22,
     "metadata": {},
     "output_type": "execute_result"
    },
    {
     "data": {
      "image/png": "[encoded data removed]",
      "text/plain": [
       "<Figure size 640x480 with 1 Axes>"
      ]
     },
     "metadata": {},
     "output_type": "display_data"
    }
   ],
   "source": [
    "import seaborn as sns\n",
    "sns.boxplot(x='LotFrontage', data=df_encoded)"
   ]
  },
  {
   "cell_type": "code",
   "execution_count": 23,
   "id": "a6cddf02",
   "metadata": {
    "execution": {
     "iopub.execute_input": "2023-04-12T20:46:05.888915Z",
     "iopub.status.busy": "2023-04-12T20:46:05.888482Z",
     "iopub.status.idle": "2023-04-12T20:46:06.065320Z",
     "shell.execute_reply": "2023-04-12T20:46:06.063644Z"
    },
    "papermill": {
     "duration": 0.193327,
     "end_time": "2023-04-12T20:46:06.068159",
     "exception": false,
     "start_time": "2023-04-12T20:46:05.874832",
     "status": "completed"
    },
    "tags": []
   },
   "outputs": [
    {
     "data": {
      "text/plain": [
       "<AxesSubplot:xlabel='Street', ylabel='SalePrice'>"
      ]
     },
     "execution_count": 23,
     "metadata": {},
     "output_type": "execute_result"
    },
    {
     "data": {
      "image/png": "[encoded data removed]",
      "text/plain": [
       "<Figure size 640x480 with 1 Axes>"
      ]
     },
     "metadata": {},
     "output_type": "display_data"
    }
   ],
   "source": [
    "sns.scatterplot(x='Street', y='SalePrice', data=train_data)\n"
   ]
  },
  {
   "cell_type": "code",
   "execution_count": 24,
   "id": "8ec32654",
   "metadata": {
    "execution": {
     "iopub.execute_input": "2023-04-12T20:46:06.097083Z",
     "iopub.status.busy": "2023-04-12T20:46:06.096656Z",
     "iopub.status.idle": "2023-04-12T20:46:06.290025Z",
     "shell.execute_reply": "2023-04-12T20:46:06.289245Z"
    },
    "papermill": {
     "duration": 0.210907,
     "end_time": "2023-04-12T20:46:06.292192",
     "exception": false,
     "start_time": "2023-04-12T20:46:06.081285",
     "status": "completed"
    },
    "tags": []
   },
   "outputs": [
    {
     "data": {
      "text/plain": [
       "<AxesSubplot:xlabel='HouseStyle', ylabel='SalePrice'>"
      ]
     },
     "execution_count": 24,
     "metadata": {},
     "output_type": "execute_result"
    },
    {
     "data": {
      "image/png": "[encoded data removed]",
      "text/plain": [
       "<Figure size 640x480 with 1 Axes>"
      ]
     },
     "metadata": {},
     "output_type": "display_data"
    }
   ],
   "source": [
    "sns.scatterplot(x='HouseStyle', y='SalePrice', data=train_data)\n"
   ]
  },
  {
   "cell_type": "code",
   "execution_count": 25,
   "id": "ca286361",
   "metadata": {
    "execution": {
     "iopub.execute_input": "2023-04-12T20:46:06.320382Z",
     "iopub.status.busy": "2023-04-12T20:46:06.319963Z",
     "iopub.status.idle": "2023-04-12T20:46:06.512320Z",
     "shell.execute_reply": "2023-04-12T20:46:06.511202Z"
    },
    "papermill": {
     "duration": 0.210241,
     "end_time": "2023-04-12T20:46:06.515675",
     "exception": false,
     "start_time": "2023-04-12T20:46:06.305434",
     "status": "completed"
    },
    "tags": []
   },
   "outputs": [
    {
     "data": {
      "text/plain": [
       "<AxesSubplot:xlabel='HouseStyle', ylabel='count'>"
      ]
     },
     "execution_count": 25,
     "metadata": {},
     "output_type": "execute_result"
    },
    {
     "data": {
      "image/png": "[encoded data removed]",
      "text/plain": [
       "<Figure size 640x480 with 1 Axes>"
      ]
     },
     "metadata": {},
     "output_type": "display_data"
    }
   ],
   "source": [
    "sns.countplot(x='HouseStyle', data=train_data)\n"
   ]
  },
  {
   "cell_type": "markdown",
   "id": "9c5ed30f",
   "metadata": {
    "papermill": {
     "duration": 0.019861,
     "end_time": "2023-04-12T20:46:06.553371",
     "exception": false,
     "start_time": "2023-04-12T20:46:06.533510",
     "status": "completed"
    },
    "tags": []
   },
   "source": [
    "### Correlation matrix"
   ]
  },
  {
   "cell_type": "markdown",
   "id": "a405e089",
   "metadata": {
    "papermill": {
     "duration": 0.015942,
     "end_time": "2023-04-12T20:46:06.585226",
     "exception": false,
     "start_time": "2023-04-12T20:46:06.569284",
     "status": "completed"
    },
    "tags": []
   },
   "source": [
    "understand the relationship between independent variables , if two variables have a positive coeficient of correlation it means that when the one increase the other increase , if they have negative coff it means when the one increase the other decrease"
   ]
  },
  {
   "cell_type": "markdown",
   "id": "7bae6fab",
   "metadata": {
    "papermill": {
     "duration": 0.015304,
     "end_time": "2023-04-12T20:46:06.615064",
     "exception": false,
     "start_time": "2023-04-12T20:46:06.599760",
     "status": "completed"
    },
    "tags": []
   },
   "source": [
    "### it is recommended to apply the matrix after processing data ( missing values and categorical data)"
   ]
  },
  {
   "cell_type": "code",
   "execution_count": 26,
   "id": "54aedf5f",
   "metadata": {
    "execution": {
     "iopub.execute_input": "2023-04-12T20:46:06.645397Z",
     "iopub.status.busy": "2023-04-12T20:46:06.644136Z",
     "iopub.status.idle": "2023-04-12T20:50:55.222749Z",
     "shell.execute_reply": "2023-04-12T20:50:55.221717Z"
    },
    "papermill": {
     "duration": 288.606919,
     "end_time": "2023-04-12T20:50:55.235717",
     "exception": false,
     "start_time": "2023-04-12T20:46:06.628798",
     "status": "completed"
    },
    "tags": []
   },
   "outputs": [
    {
     "data": {
      "text/plain": [
       "<AxesSubplot:>"
      ]
     },
     "execution_count": 26,
     "metadata": {},
     "output_type": "execute_result"
    },
    {
     "data": {
      "image/png": "[encoded data removed]",
      "text/plain": [
       "<Figure size 640x480 with 2 Axes>"
      ]
     },
     "metadata": {},
     "output_type": "display_data"
    }
   ],
   "source": [
    "# Create a correlation matrix\n",
    "corr_matrix = df_encoded.corr()\n",
    "\n",
    "# Visualize the correlation matrix as a heatmap\n",
    "sns.heatmap(corr_matrix, annot=True)"
   ]
  },
  {
   "cell_type": "code",
   "execution_count": 27,
   "id": "c11e4a2a",
   "metadata": {
    "execution": {
     "iopub.execute_input": "2023-04-12T20:50:55.270838Z",
     "iopub.status.busy": "2023-04-12T20:50:55.269923Z",
     "iopub.status.idle": "2023-04-12T20:50:55.280822Z",
     "shell.execute_reply": "2023-04-12T20:50:55.279433Z"
    },
    "papermill": {
     "duration": 0.031537,
     "end_time": "2023-04-12T20:50:55.283574",
     "exception": false,
     "start_time": "2023-04-12T20:50:55.252037",
     "status": "completed"
    },
    "tags": []
   },
   "outputs": [
    {
     "data": {
      "text/plain": [
       "HouseStyle\n",
       "1.5Fin    143116.740260\n",
       "1.5Unf    110150.000000\n",
       "1Story    175985.477961\n",
       "2.5Fin    220000.000000\n",
       "2.5Unf    157354.545455\n",
       "2Story    210051.764045\n",
       "SFoyer    135074.486486\n",
       "SLvl      166703.384615\n",
       "Name: SalePrice, dtype: float64"
      ]
     },
     "execution_count": 27,
     "metadata": {},
     "output_type": "execute_result"
    }
   ],
   "source": [
    "train_data.groupby('HouseStyle')['SalePrice'].mean()"
   ]
  },
  {
   "cell_type": "code",
   "execution_count": 28,
   "id": "d0099897",
   "metadata": {
    "execution": {
     "iopub.execute_input": "2023-04-12T20:50:55.317155Z",
     "iopub.status.busy": "2023-04-12T20:50:55.316783Z",
     "iopub.status.idle": "2023-04-12T20:50:55.327107Z",
     "shell.execute_reply": "2023-04-12T20:50:55.325708Z"
    },
    "papermill": {
     "duration": 0.030166,
     "end_time": "2023-04-12T20:50:55.329572",
     "exception": false,
     "start_time": "2023-04-12T20:50:55.299406",
     "status": "completed"
    },
    "tags": []
   },
   "outputs": [
    {
     "data": {
      "text/plain": [
       "Neighborhood\n",
       "Blmngtn    194870.882353\n",
       "Blueste    137500.000000\n",
       "BrDale     104493.750000\n",
       "BrkSide    124834.051724\n",
       "ClearCr    212565.428571\n",
       "CollgCr    197965.773333\n",
       "Crawfor    210624.725490\n",
       "Edwards    128219.700000\n",
       "Gilbert    192854.506329\n",
       "IDOTRR     100123.783784\n",
       "MeadowV     98576.470588\n",
       "Mitchel    156270.122449\n",
       "NAmes      145847.080000\n",
       "NPkVill    142694.444444\n",
       "NWAmes     189050.068493\n",
       "NoRidge    335295.317073\n",
       "NridgHt    316270.623377\n",
       "OldTown    128225.300885\n",
       "SWISU      142591.360000\n",
       "Sawyer     136793.135135\n",
       "SawyerW    186555.796610\n",
       "Somerst    225379.837209\n",
       "StoneBr    310499.000000\n",
       "Timber     242247.447368\n",
       "Veenker    238772.727273\n",
       "Name: SalePrice, dtype: float64"
      ]
     },
     "execution_count": 28,
     "metadata": {},
     "output_type": "execute_result"
    }
   ],
   "source": [
    "train_data.groupby('Neighborhood')['SalePrice'].mean()"
   ]
  },
  {
   "cell_type": "code",
   "execution_count": 29,
   "id": "74cac636",
   "metadata": {
    "execution": {
     "iopub.execute_input": "2023-04-12T20:50:55.362606Z",
     "iopub.status.busy": "2023-04-12T20:50:55.362215Z",
     "iopub.status.idle": "2023-04-12T20:50:55.628657Z",
     "shell.execute_reply": "2023-04-12T20:50:55.627149Z"
    },
    "papermill": {
     "duration": 0.286278,
     "end_time": "2023-04-12T20:50:55.631607",
     "exception": false,
     "start_time": "2023-04-12T20:50:55.345329",
     "status": "completed"
    },
    "tags": []
   },
   "outputs": [
    {
     "data": {
      "text/plain": [
       "<AxesSubplot:xlabel='Neighborhood', ylabel='SalePrice'>"
      ]
     },
     "execution_count": 29,
     "metadata": {},
     "output_type": "execute_result"
    },
    {
     "data": {
      "image/png": "[encoded data removed]",
      "text/plain": [
       "<Figure size 640x480 with 1 Axes>"
      ]
     },
     "metadata": {},
     "output_type": "display_data"
    }
   ],
   "source": [
    "sns.scatterplot(x='Neighborhood', y='SalePrice', data=train_data)"
   ]
  },
  {
   "cell_type": "markdown",
   "id": "e9ef271e",
   "metadata": {
    "papermill": {
     "duration": 0.016469,
     "end_time": "2023-04-12T20:50:55.665053",
     "exception": false,
     "start_time": "2023-04-12T20:50:55.648584",
     "status": "completed"
    },
    "tags": []
   },
   "source": [
    "### Machine learning algorithm "
   ]
  },
  {
   "cell_type": "code",
   "execution_count": 30,
   "id": "00f5c16f",
   "metadata": {
    "execution": {
     "iopub.execute_input": "2023-04-12T20:50:55.701314Z",
     "iopub.status.busy": "2023-04-12T20:50:55.700484Z",
     "iopub.status.idle": "2023-04-12T20:50:55.704467Z",
     "shell.execute_reply": "2023-04-12T20:50:55.703792Z"
    },
    "papermill": {
     "duration": 0.025077,
     "end_time": "2023-04-12T20:50:55.707029",
     "exception": false,
     "start_time": "2023-04-12T20:50:55.681952",
     "status": "completed"
    },
    "tags": []
   },
   "outputs": [],
   "source": [
    "from sklearn.model_selection import train_test_split\n"
   ]
  },
  {
   "cell_type": "code",
   "execution_count": 31,
   "id": "935fb2d9",
   "metadata": {
    "execution": {
     "iopub.execute_input": "2023-04-12T20:50:55.742743Z",
     "iopub.status.busy": "2023-04-12T20:50:55.742118Z",
     "iopub.status.idle": "2023-04-12T20:50:55.824965Z",
     "shell.execute_reply": "2023-04-12T20:50:55.823683Z"
    },
    "papermill": {
     "duration": 0.103811,
     "end_time": "2023-04-12T20:50:55.827595",
     "exception": false,
     "start_time": "2023-04-12T20:50:55.723784",
     "status": "completed"
    },
    "tags": []
   },
   "outputs": [],
   "source": [
    "X_train, X_test, y_train, y_test = train_test_split(df_encoded,y_train_data, test_size=0.3, random_state=42)"
   ]
  },
  {
   "cell_type": "code",
   "execution_count": 32,
   "id": "81d3d053",
   "metadata": {
    "execution": {
     "iopub.execute_input": "2023-04-12T20:50:55.863075Z",
     "iopub.status.busy": "2023-04-12T20:50:55.862705Z",
     "iopub.status.idle": "2023-04-12T20:50:55.868399Z",
     "shell.execute_reply": "2023-04-12T20:50:55.867189Z"
    },
    "papermill": {
     "duration": 0.027017,
     "end_time": "2023-04-12T20:50:55.871391",
     "exception": false,
     "start_time": "2023-04-12T20:50:55.844374",
     "status": "completed"
    },
    "tags": []
   },
   "outputs": [
    {
     "name": "stdout",
     "output_type": "stream",
     "text": [
      "(1022, 305)\n",
      "(1022,)\n",
      "(438, 305)\n",
      "(438,)\n"
     ]
    }
   ],
   "source": [
    "print(X_train.shape)\n",
    "print(y_train.shape)\n",
    "print(X_test.shape)\n",
    "print(y_test.shape)"
   ]
  },
  {
   "cell_type": "code",
   "execution_count": 33,
   "id": "ceb7891e",
   "metadata": {
    "execution": {
     "iopub.execute_input": "2023-04-12T20:50:55.906952Z",
     "iopub.status.busy": "2023-04-12T20:50:55.906592Z",
     "iopub.status.idle": "2023-04-12T20:50:56.849958Z",
     "shell.execute_reply": "2023-04-12T20:50:56.848270Z"
    },
    "papermill": {
     "duration": 0.964297,
     "end_time": "2023-04-12T20:50:56.852526",
     "exception": false,
     "start_time": "2023-04-12T20:50:55.888229",
     "status": "completed"
    },
    "tags": []
   },
   "outputs": [
    {
     "name": "stderr",
     "output_type": "stream",
     "text": [
      "/opt/conda/lib/python3.7/site-packages/sklearn/utils/validation.py:625: UserWarning: pandas.DataFrame with sparse columns found.It will be converted to a dense numpy array.\n",
      "  \"pandas.DataFrame with sparse columns found.\"\n"
     ]
    },
    {
     "data": {
      "text/plain": [
       "GradientBoostingRegressor()"
      ]
     },
     "execution_count": 33,
     "metadata": {},
     "output_type": "execute_result"
    }
   ],
   "source": [
    "from sklearn.ensemble import GradientBoostingRegressor\n",
    "\n",
    "# Build the Gradient Boosting model\n",
    "model = GradientBoostingRegressor()\n",
    "\n",
    "# Train the model on the training set\n",
    "model.fit(X_train, y_train)"
   ]
  },
  {
   "cell_type": "code",
   "execution_count": 34,
   "id": "0766a361",
   "metadata": {
    "execution": {
     "iopub.execute_input": "2023-04-12T20:50:56.888443Z",
     "iopub.status.busy": "2023-04-12T20:50:56.888055Z",
     "iopub.status.idle": "2023-04-12T20:50:56.911615Z",
     "shell.execute_reply": "2023-04-12T20:50:56.910348Z"
    },
    "papermill": {
     "duration": 0.044915,
     "end_time": "2023-04-12T20:50:56.914452",
     "exception": false,
     "start_time": "2023-04-12T20:50:56.869537",
     "status": "completed"
    },
    "tags": []
   },
   "outputs": [
    {
     "name": "stderr",
     "output_type": "stream",
     "text": [
      "/opt/conda/lib/python3.7/site-packages/sklearn/utils/validation.py:625: UserWarning: pandas.DataFrame with sparse columns found.It will be converted to a dense numpy array.\n",
      "  \"pandas.DataFrame with sparse columns found.\"\n"
     ]
    }
   ],
   "source": [
    "# Make predictions on the testing set\n",
    "y_pred = model.predict(X_test)\n",
    "\n"
   ]
  },
  {
   "cell_type": "code",
   "execution_count": 35,
   "id": "e65b137e",
   "metadata": {
    "execution": {
     "iopub.execute_input": "2023-04-12T20:50:56.949654Z",
     "iopub.status.busy": "2023-04-12T20:50:56.949318Z",
     "iopub.status.idle": "2023-04-12T20:50:56.953547Z",
     "shell.execute_reply": "2023-04-12T20:50:56.952417Z"
    },
    "papermill": {
     "duration": 0.025428,
     "end_time": "2023-04-12T20:50:56.956706",
     "exception": false,
     "start_time": "2023-04-12T20:50:56.931278",
     "status": "completed"
    },
    "tags": []
   },
   "outputs": [],
   "source": [
    "from sklearn.preprocessing import StandardScaler"
   ]
  },
  {
   "cell_type": "code",
   "execution_count": 36,
   "id": "a1bbf112",
   "metadata": {
    "execution": {
     "iopub.execute_input": "2023-04-12T20:50:56.992065Z",
     "iopub.status.busy": "2023-04-12T20:50:56.991680Z",
     "iopub.status.idle": "2023-04-12T20:50:56.996889Z",
     "shell.execute_reply": "2023-04-12T20:50:56.995930Z"
    },
    "papermill": {
     "duration": 0.025561,
     "end_time": "2023-04-12T20:50:56.999008",
     "exception": false,
     "start_time": "2023-04-12T20:50:56.973447",
     "status": "completed"
    },
    "tags": []
   },
   "outputs": [],
   "source": [
    "# Tune the model by adjusting hyperparameters\n",
    "model = GradientBoostingRegressor(\n",
    "    learning_rate=0.1,\n",
    "    n_estimators=100,\n",
    "    max_depth=3,\n",
    "    random_state=42\n",
    ")"
   ]
  },
  {
   "cell_type": "code",
   "execution_count": 37,
   "id": "1ea0fa38",
   "metadata": {
    "execution": {
     "iopub.execute_input": "2023-04-12T20:50:57.033317Z",
     "iopub.status.busy": "2023-04-12T20:50:57.032920Z",
     "iopub.status.idle": "2023-04-12T20:50:57.828424Z",
     "shell.execute_reply": "2023-04-12T20:50:57.827249Z"
    },
    "papermill": {
     "duration": 0.815481,
     "end_time": "2023-04-12T20:50:57.830865",
     "exception": false,
     "start_time": "2023-04-12T20:50:57.015384",
     "status": "completed"
    },
    "tags": []
   },
   "outputs": [
    {
     "name": "stderr",
     "output_type": "stream",
     "text": [
      "/opt/conda/lib/python3.7/site-packages/sklearn/utils/validation.py:625: UserWarning: pandas.DataFrame with sparse columns found.It will be converted to a dense numpy array.\n",
      "  \"pandas.DataFrame with sparse columns found.\"\n",
      "/opt/conda/lib/python3.7/site-packages/sklearn/utils/validation.py:625: UserWarning: pandas.DataFrame with sparse columns found.It will be converted to a dense numpy array.\n",
      "  \"pandas.DataFrame with sparse columns found.\"\n",
      "/opt/conda/lib/python3.7/site-packages/sklearn/utils/validation.py:625: UserWarning: pandas.DataFrame with sparse columns found.It will be converted to a dense numpy array.\n",
      "  \"pandas.DataFrame with sparse columns found.\"\n"
     ]
    }
   ],
   "source": [
    "# Scale the features\n",
    "scaler = StandardScaler()\n",
    "X_train_scaled = scaler.fit_transform(X_train)\n",
    "X_test_scaled = scaler.transform(X_test)\n",
    "# Train the model\n",
    "model.fit(X_train_scaled , y_train)\n",
    "\n",
    "# Make predictions on test set\n",
    "y_pred = model.predict(X_test_scaled)\n"
   ]
  },
  {
   "cell_type": "code",
   "execution_count": 38,
   "id": "9dd287ae",
   "metadata": {
    "execution": {
     "iopub.execute_input": "2023-04-12T20:50:57.866479Z",
     "iopub.status.busy": "2023-04-12T20:50:57.865887Z",
     "iopub.status.idle": "2023-04-12T20:50:57.872543Z",
     "shell.execute_reply": "2023-04-12T20:50:57.870718Z"
    },
    "papermill": {
     "duration": 0.02734,
     "end_time": "2023-04-12T20:50:57.874849",
     "exception": false,
     "start_time": "2023-04-12T20:50:57.847509",
     "status": "completed"
    },
    "tags": []
   },
   "outputs": [
    {
     "data": {
      "text/plain": [
       "(1022,)"
      ]
     },
     "execution_count": 38,
     "metadata": {},
     "output_type": "execute_result"
    }
   ],
   "source": [
    "y_pred.shape\n",
    "y_train.shape"
   ]
  },
  {
   "cell_type": "code",
   "execution_count": 39,
   "id": "4d18c980",
   "metadata": {
    "execution": {
     "iopub.execute_input": "2023-04-12T20:50:57.910261Z",
     "iopub.status.busy": "2023-04-12T20:50:57.909713Z",
     "iopub.status.idle": "2023-04-12T20:50:57.915306Z",
     "shell.execute_reply": "2023-04-12T20:50:57.914160Z"
    },
    "papermill": {
     "duration": 0.025475,
     "end_time": "2023-04-12T20:50:57.917029",
     "exception": false,
     "start_time": "2023-04-12T20:50:57.891554",
     "status": "completed"
    },
    "tags": []
   },
   "outputs": [
    {
     "name": "stdout",
     "output_type": "stream",
     "text": [
      "MSE: 646455715.4369017\n"
     ]
    }
   ],
   "source": [
    "from sklearn.metrics import mean_squared_error\n",
    "\n",
    "# Calculate the MSE\n",
    "mse = mean_squared_error(y_test, y_pred)\n",
    "print('MSE:', mse)"
   ]
  },
  {
   "cell_type": "code",
   "execution_count": null,
   "id": "fc6d9815",
   "metadata": {
    "papermill": {
     "duration": 0.016504,
     "end_time": "2023-04-12T20:50:57.949884",
     "exception": false,
     "start_time": "2023-04-12T20:50:57.933380",
     "status": "completed"
    },
    "tags": []
   },
   "outputs": [],
   "source": []
  }
 ],
 "metadata": {
  "kernelspec": {
   "display_name": "Python 3",
   "language": "python",
   "name": "python3"
  },
  "language_info": {
   "codemirror_mode": {
    "name": "ipython",
    "version": 3
   },
   "file_extension": ".py",
   "mimetype": "text/x-python",
   "name": "python",
   "nbconvert_exporter": "python",
   "pygments_lexer": "ipython3",
   "version": "3.7.12"
  },
  "papermill": {
   "default_parameters": {},
   "duration": 307.655378,
   "end_time": "2023-04-12T20:51:00.688040",
   "environment_variables": {},
   "exception": null,
   "input_path": "__notebook__.ipynb",
   "output_path": "__notebook__.ipynb",
   "parameters": {},
   "start_time": "2023-04-12T20:45:53.032662",
   "version": "2.4.0"
  }
 },
 "nbformat": 4,
 "nbformat_minor": 5
}
